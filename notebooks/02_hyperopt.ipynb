{
 "cells": [
  {
   "cell_type": "code",
   "execution_count": 131,
   "id": "a4292bd1",
   "metadata": {},
   "outputs": [],
   "source": [
    "import pandas as pd\n",
    "import numpy as np\n",
    "import seaborn as sns\n",
    "import matplotlib.pyplot as plt\n",
    "import multiprocessing\n",
    "from sklearn.metrics import roc_auc_score"
   ]
  },
  {
   "cell_type": "code",
   "execution_count": 2,
   "id": "b7f17601",
   "metadata": {},
   "outputs": [],
   "source": [
    "# reading the data\n",
    "df_heart=pd.read_csv('data/framingham.csv')\n",
    "#df_heart.replace(np.nan,\"NaN\")\n",
    "df_heart.dropna(axis=0,inplace=True)\n",
    "\n",
    "##separation in X and y\n",
    "X_heart = df_heart.drop( columns = \"TenYearCHD\" )\n",
    "y_heart = df_heart[ \"TenYearCHD\" ]"
   ]
  },
  {
   "cell_type": "code",
   "execution_count": 17,
   "id": "1137c119",
   "metadata": {},
   "outputs": [
    {
     "data": {
      "text/plain": [
       "((2926,), (732,))"
      ]
     },
     "execution_count": 17,
     "metadata": {},
     "output_type": "execute_result"
    }
   ],
   "source": [
    "##let's start by splitting the data into a train and a validaiton set\n",
    "from sklearn.model_selection import train_test_split\n",
    "\n",
    "X_train, X_valid, y_train, y_valid = train_test_split(X_heart, y_heart, stratify=y_heart, random_state=94 , train_size=0.8)\n",
    "y_train.shape , y_valid.shape"
   ]
  },
  {
   "cell_type": "code",
   "execution_count": 18,
   "id": "b9759c10",
   "metadata": {},
   "outputs": [
    {
     "name": "stdout",
     "output_type": "stream",
     "text": [
      "CPU times: user 478 ms, sys: 0 ns, total: 478 ms\n",
      "Wall time: 87.9 ms\n"
     ]
    },
    {
     "data": {
      "text/plain": [
       "(0.999985534500217, 0.6725856291073683)"
      ]
     },
     "execution_count": 18,
     "metadata": {},
     "output_type": "execute_result"
    }
   ],
   "source": [
    "%%time \n",
    "import xgboost as xgb\n",
    "xgb_model = xgb.XGBClassifier(n_jobs=multiprocessing.cpu_count()-2)\n",
    "\n",
    "xgb_model.fit(X_train, y_train)\n",
    "\n",
    "roc_auc_score(y_train , xgb_model.predict_proba( X_train )[:,1] ) , roc_auc_score(y_valid , xgb_model.predict_proba( X_valid )[:,1] )"
   ]
  },
  {
   "cell_type": "markdown",
   "id": "0bdc3f0e",
   "metadata": {},
   "source": [
    "# \"basic\" usage "
   ]
  },
  {
   "cell_type": "code",
   "execution_count": 19,
   "id": "f3222a6e",
   "metadata": {},
   "outputs": [],
   "source": [
    "from hyperopt import hp, fmin, tpe, rand, pyll, STATUS_OK, STATUS_FAIL, Trials, space_eval\n"
   ]
  },
  {
   "cell_type": "markdown",
   "id": "d5cea29a",
   "metadata": {},
   "source": [
    "## function to optimize\n",
    "\n",
    "We need to write a function which :\n",
    " * takes a dictionary of parameters as arguments\n",
    " * returns a dictionnary containing the computed loss and a status value\n",
    " \n",
    "Importantly, the loss is a value which we want to **minimize**, so in our case we will\n",
    "use -AUC(validation data)"
   ]
  },
  {
   "cell_type": "code",
   "execution_count": 24,
   "id": "381cda50",
   "metadata": {},
   "outputs": [],
   "source": [
    "\n",
    "def hyperopt_xgb_train( params ):\n",
    "    \n",
    "    xgb_model = xgb.XGBClassifier(n_jobs=multiprocessing.cpu_count()-2 , **params)\n",
    "    xgb_model.fit(X_train, y_train)\n",
    "    \n",
    "    loss = -roc_auc_score(y_valid , xgb_model.predict_proba( X_valid )[:,1] )\n",
    "    return_dict = {'loss': loss,\n",
    "                   'status': STATUS_OK\n",
    "                   }\n",
    "    return return_dict\n"
   ]
  },
  {
   "cell_type": "code",
   "execution_count": 103,
   "id": "ac3f0c21",
   "metadata": {},
   "outputs": [
    {
     "data": {
      "text/plain": [
       "{'loss': -0.6568017292654974, 'status': 'ok'}"
      ]
     },
     "execution_count": 103,
     "metadata": {},
     "output_type": "execute_result"
    }
   ],
   "source": [
    "params = dict( n_estimators=100,\n",
    "               eta = 0.3,\n",
    "               subsample = 0.8,\n",
    "               max_depth = 5)\n",
    "hyperopt_xgb_train( params )"
   ]
  },
  {
   "cell_type": "markdown",
   "id": "d21e97e4",
   "metadata": {},
   "source": [
    "## parameter search-space\n",
    "\n",
    "The way it works is that for each hyper-parameter you define a **prior distribution** (it is bayesian afterall) using one of hyperopt function.\n",
    "\n",
    "For a more detailed documentation we refer you to the [hyperopt documentation](http://hyperopt.github.io/hyperopt/getting-started/search_spaces/)"
   ]
  },
  {
   "cell_type": "code",
   "execution_count": 28,
   "id": "f70d9760",
   "metadata": {},
   "outputs": [
    {
     "data": {
      "text/plain": [
       "<hyperopt.pyll.base.Apply at 0x7f360d32ee50>"
      ]
     },
     "execution_count": 28,
     "metadata": {},
     "output_type": "execute_result"
    }
   ],
   "source": [
    "simple_uniform = hp.uniform('simple', 0, 1)\n",
    "simple_uniform"
   ]
  },
  {
   "cell_type": "code",
   "execution_count": 35,
   "id": "4c907085",
   "metadata": {},
   "outputs": [
    {
     "data": {
      "text/plain": [
       "0.6278585155287327"
      ]
     },
     "execution_count": 35,
     "metadata": {},
     "output_type": "execute_result"
    }
   ],
   "source": [
    "pyll.stochastic.sample(simple_uniform)"
   ]
  },
  {
   "cell_type": "code",
   "execution_count": 43,
   "id": "8d0ad41e",
   "metadata": {},
   "outputs": [
    {
     "data": {
      "text/plain": [
       "11"
      ]
     },
     "execution_count": 43,
     "metadata": {},
     "output_type": "execute_result"
    }
   ],
   "source": [
    "md = pyll.scope.int(hp.quniform('max_depth', 1, 16, 1))\n",
    "pyll.stochastic.sample(md)"
   ]
  },
  {
   "cell_type": "code",
   "execution_count": 119,
   "id": "8ef9cf3a",
   "metadata": {},
   "outputs": [
    {
     "data": {
      "text/plain": [
       "0.00042375006202035627"
      ]
     },
     "execution_count": 119,
     "metadata": {},
     "output_type": "execute_result"
    }
   ],
   "source": [
    "eta = hp.loguniform('eta' , np.log(10**-4) , np.log(10**2) )\n",
    "pyll.stochastic.sample(eta)"
   ]
  },
  {
   "cell_type": "code",
   "execution_count": 122,
   "id": "a4875ddc",
   "metadata": {},
   "outputs": [
    {
     "data": {
      "text/plain": [
       "<Axes: ylabel='Count'>"
      ]
     },
     "execution_count": 122,
     "metadata": {},
     "output_type": "execute_result"
    },
    {
     "data": {
      "image/png": "[encoded data removed]",
      "text/plain": [
       "<Figure size 640x480 with 1 Axes>"
      ]
     },
     "metadata": {},
     "output_type": "display_data"
    }
   ],
   "source": [
    "sns.histplot( [ np.log10( pyll.stochastic.sample(eta) ) for _ in range(10000) ] )"
   ]
  },
  {
   "cell_type": "markdown",
   "id": "108a04ec",
   "metadata": {},
   "source": [
    "**exercise** : which prior distribution could we give `n_estimators`?"
   ]
  },
  {
   "cell_type": "code",
   "execution_count": 92,
   "id": "89c16b31",
   "metadata": {},
   "outputs": [
    {
     "data": {
      "text/plain": [
       "12"
      ]
     },
     "execution_count": 92,
     "metadata": {},
     "output_type": "execute_result"
    }
   ],
   "source": []
  },
  {
   "cell_type": "code",
   "execution_count": 123,
   "id": "5833f302",
   "metadata": {},
   "outputs": [],
   "source": [
    "\n",
    "\n",
    "space4xgb = {\n",
    "    'n_estimators': pyll.scope.int(hp.quniform('n_estimators', 1 , 1000,1)),\n",
    "    'eta': hp.loguniform('eta' , np.log(10**-4) , np.log(10**2) ),\n",
    "    'max_depth': pyll.scope.int(hp.quniform('max_depth', 1, 16, 1)),\n",
    "    'subsample': hp.uniform('subsample', 0.3, 1)\n",
    "}"
   ]
  },
  {
   "cell_type": "markdown",
   "id": "47ba9677",
   "metadata": {},
   "source": [
    "## minimizing"
   ]
  },
  {
   "cell_type": "code",
   "execution_count": 149,
   "id": "09ffa7d9",
   "metadata": {},
   "outputs": [
    {
     "name": "stdout",
     "output_type": "stream",
     "text": [
      "100%|████████████████████████████████████████████████████████████████████████████████████████████████████████████████████████████████████████████████████████████████████████████████████████████████████████| 100/100 [00:27<00:00,  3.68trial/s, best loss: -0.7337047192119657]\n",
      "CPU times: user 2min 41s, sys: 911 ms, total: 2min 42s\n",
      "Wall time: 27.2 s\n"
     ]
    }
   ],
   "source": [
    "%%time\n",
    "trials = Trials()\n",
    "\n",
    "best = fmin(hyperopt_xgb_train, \n",
    "            space4xgb, \n",
    "            algo=tpe.suggest, \n",
    "            max_evals=100, \n",
    "            trials=trials)"
   ]
  },
  {
   "cell_type": "code",
   "execution_count": 150,
   "id": "ea411f40",
   "metadata": {},
   "outputs": [
    {
     "data": {
      "text/plain": [
       "{'eta': 0.0070531424724613505,\n",
       " 'max_depth': 1.0,\n",
       " 'n_estimators': 988.0,\n",
       " 'subsample': 0.35971798767183444}"
      ]
     },
     "execution_count": 150,
     "metadata": {},
     "output_type": "execute_result"
    }
   ],
   "source": [
    "best"
   ]
  },
  {
   "cell_type": "code",
   "execution_count": 151,
   "id": "3c588aa5",
   "metadata": {},
   "outputs": [
    {
     "data": {
      "text/plain": [
       "100"
      ]
     },
     "execution_count": 151,
     "metadata": {},
     "output_type": "execute_result"
    }
   ],
   "source": [
    "len( trials )"
   ]
  },
  {
   "cell_type": "code",
   "execution_count": 153,
   "id": "867f6472",
   "metadata": {},
   "outputs": [
    {
     "data": {
      "text/plain": [
       "[{'loss': -0.6656366511438975, 'status': 'ok'},\n",
       " {'loss': -0.5, 'status': 'ok'},\n",
       " {'loss': -0.5432026229127678, 'status': 'ok'},\n",
       " {'loss': -0.6868027447737592, 'status': 'ok'},\n",
       " {'loss': -0.7132349741045394, 'status': 'ok'},\n",
       " {'loss': -0.5, 'status': 'ok'},\n",
       " {'loss': -0.61930045988017, 'status': 'ok'},\n",
       " {'loss': -0.6957102029565797, 'status': 'ok'},\n",
       " {'loss': -0.7231289260274767, 'status': 'ok'},\n",
       " {'loss': -0.7181674428051239, 'status': 'ok'}]"
      ]
     },
     "execution_count": 153,
     "metadata": {},
     "output_type": "execute_result"
    }
   ],
   "source": [
    "trials.results[:10]"
   ]
  },
  {
   "cell_type": "code",
   "execution_count": 163,
   "id": "1a5e6e67",
   "metadata": {},
   "outputs": [
    {
     "data": {
      "text/plain": [
       "[-0.6656366511438975,\n",
       " -0.5,\n",
       " -0.5432026229127678,\n",
       " -0.6868027447737592,\n",
       " -0.7132349741045394,\n",
       " -0.5,\n",
       " -0.61930045988017,\n",
       " -0.6957102029565797,\n",
       " -0.7231289260274767,\n",
       " -0.7181674428051239]"
      ]
     },
     "execution_count": 163,
     "metadata": {},
     "output_type": "execute_result"
    }
   ],
   "source": [
    "trials.losses()[:10]"
   ]
  },
  {
   "cell_type": "code",
   "execution_count": 154,
   "id": "ae8724fd",
   "metadata": {},
   "outputs": [
    {
     "data": {
      "text/plain": [
       "dict_keys(['eta', 'max_depth', 'n_estimators', 'subsample'])"
      ]
     },
     "execution_count": 154,
     "metadata": {},
     "output_type": "execute_result"
    }
   ],
   "source": [
    "trials.vals.keys()"
   ]
  },
  {
   "cell_type": "code",
   "execution_count": 156,
   "id": "fe07de59",
   "metadata": {},
   "outputs": [
    {
     "name": "stdout",
     "output_type": "stream",
     "text": [
      "eta [25.58707901911184, 5.499331583193347, 8.527319439829816, 0.03301508587710734, 0.0022615972016598526]\n",
      "max_depth [3.0, 7.0, 6.0, 15.0, 8.0]\n",
      "n_estimators [713.0, 787.0, 449.0, 213.0, 123.0]\n",
      "subsample [0.5098858239800297, 0.5879951639225276, 0.6952154034678618, 0.47350835505938266, 0.7481075381421294]\n"
     ]
    }
   ],
   "source": [
    "for k in trials.vals.keys():\n",
    "    print(k , trials.vals[k][:5])"
   ]
  },
  {
   "cell_type": "code",
   "execution_count": 160,
   "id": "64706481",
   "metadata": {},
   "outputs": [
    {
     "data": {
      "text/plain": [
       "<matplotlib.legend.Legend at 0x7f3604aabe50>"
      ]
     },
     "execution_count": 160,
     "metadata": {},
     "output_type": "execute_result"
    },
    {
     "data": {
      "image/png": "[encoded data removed]",
      "text/plain": [
       "<Figure size 1000x500 with 1 Axes>"
      ]
     },
     "metadata": {},
     "output_type": "display_data"
    }
   ],
   "source": [
    "fig,ax = plt.subplots(figsize=(10,5))\n",
    "\n",
    "sns.kdeplot( np.log10( trials.vals['eta'] ) , ax=ax , cut = 0 , label='sampled')\n",
    "sns.histplot( np.log10( trials.vals['eta'] ) , binwidth=0.5 , ax=ax , label='sampled' , stat = 'density')\n",
    "\n",
    "sns.kdeplot( [ np.log10( pyll.stochastic.sample(eta) ) for _ in range(10000) ] , ax=ax , cut = 0 , label='prior')\n",
    "ax.set_xlabel('eta')\n",
    "ax.legend()"
   ]
  },
  {
   "cell_type": "code",
   "execution_count": 167,
   "id": "367c656c",
   "metadata": {},
   "outputs": [
    {
     "data": {
      "text/plain": [
       "Text(0, 0.5, 'loss')"
      ]
     },
     "execution_count": 167,
     "metadata": {},
     "output_type": "execute_result"
    },
    {
     "data": {
      "image/png": "[encoded data removed]",
      "text/plain": [
       "<Figure size 640x480 with 1 Axes>"
      ]
     },
     "metadata": {},
     "output_type": "display_data"
    }
   ],
   "source": [
    "\n",
    "ax = sns.scatterplot( x = np.log10( trials.vals['eta'] ) ,\n",
    "                 y =  trials.losses() )\n",
    "ax.set_xlabel('eta')\n",
    "ax.set_ylabel('loss')"
   ]
  },
  {
   "cell_type": "code",
   "execution_count": 169,
   "id": "37b4cec0",
   "metadata": {},
   "outputs": [
    {
     "data": {
      "text/plain": [
       "Text(0, 0.5, 'loss')"
      ]
     },
     "execution_count": 169,
     "metadata": {},
     "output_type": "execute_result"
    },
    {
     "data": {
      "image/png": "[encoded data removed]",
      "text/plain": [
       "<Figure size 640x480 with 1 Axes>"
      ]
     },
     "metadata": {},
     "output_type": "display_data"
    }
   ],
   "source": [
    "ax = sns.scatterplot( x =  range(len(trials.losses())) ,  y =  trials.losses() )\n",
    "ax.set_xlabel('trials')\n",
    "ax.set_ylabel('loss')"
   ]
  },
  {
   "cell_type": "code",
   "execution_count": null,
   "id": "7d9216c3",
   "metadata": {},
   "outputs": [],
   "source": [
    "\n"
   ]
  },
  {
   "cell_type": "code",
   "execution_count": null,
   "id": "f5971ef2",
   "metadata": {},
   "outputs": [],
   "source": []
  },
  {
   "cell_type": "markdown",
   "id": "9874084c",
   "metadata": {},
   "source": [
    "# changing the cross-validation scheme"
   ]
  },
  {
   "cell_type": "code",
   "execution_count": 172,
   "id": "e23e6bb5",
   "metadata": {},
   "outputs": [],
   "source": [
    "from sklearn.model_selection import StratifiedKFold"
   ]
  },
  {
   "cell_type": "code",
   "execution_count": 181,
   "id": "efc8a9ee",
   "metadata": {},
   "outputs": [
    {
     "name": "stdout",
     "output_type": "stream",
     "text": [
      "2926 [0 1 3 4 5]\n",
      "732 [ 2 26 34 37 43]\n",
      "2926 [0 1 2 4 5]\n",
      "732 [ 3  7  8 14 15]\n",
      "2926 [0 1 2 3 4]\n",
      "732 [ 6 10 12 13 16]\n",
      "2927 [0 2 3 6 7]\n",
      "731 [ 1  4  5  9 23]\n",
      "2927 [1 2 3 4 5]\n",
      "731 [ 0 11 20 22 31]\n"
     ]
    }
   ],
   "source": [
    "skf = StratifiedKFold(n_splits=5 , shuffle=True , random_state = 2024 )\n",
    "for t,v in skf.split( X_heart , y_heart ):\n",
    "\n",
    "    print(len(t), t[:5])\n",
    "    print(len(v), v[:5])"
   ]
  },
  {
   "cell_type": "code",
   "execution_count": 202,
   "id": "639cc489",
   "metadata": {},
   "outputs": [
    {
     "data": {
      "text/plain": [
       "array([0.5970028 , 0.63060196, 0.68068836, 0.60491136, 0.64751526])"
      ]
     },
     "execution_count": 202,
     "metadata": {},
     "output_type": "execute_result"
    }
   ],
   "source": [
    "from sklearn.model_selection import cross_val_score\n",
    "cross_val_score( xgb.XGBClassifier(n_jobs=multiprocessing.cpu_count()-2) , \n",
    "                X_heart , y_heart, scoring = 'roc_auc' , cv = skf )"
   ]
  },
  {
   "cell_type": "markdown",
   "id": "c14cd3c6",
   "metadata": {},
   "source": [
    "### exercise\n",
    "\n",
    "Write the function we will give to `fmin` to evaluate an XGBoost classifier with 5-fold CV with a ROC AUC score.\n"
   ]
  },
  {
   "cell_type": "code",
   "execution_count": 203,
   "id": "31103e45",
   "metadata": {},
   "outputs": [],
   "source": [
    "## tentative solution\n",
    "def hyperopt_xgb_train_CV5( params ):\n",
    "    \n",
    "    losses = -1 * cross_val_score( xgb.XGBClassifier(n_jobs=multiprocessing.cpu_count()-2 , **params) , \n",
    "                X_heart , y_heart, scoring = 'roc_auc' , cv = skf )\n",
    "        \n",
    "    return_dict = {'loss': np.mean(losses),\n",
    "                   'loss_variance' : np.var(losses),\n",
    "                   'status': STATUS_OK\n",
    "                   }\n",
    "    return return_dict\n"
   ]
  },
  {
   "cell_type": "code",
   "execution_count": 204,
   "id": "dd0af191",
   "metadata": {},
   "outputs": [
    {
     "data": {
      "text/plain": [
       "{'loss': -0.6374179302273623,\n",
       " 'loss_variance': 0.0007875657048112409,\n",
       " 'status': 'ok'}"
      ]
     },
     "execution_count": 204,
     "metadata": {},
     "output_type": "execute_result"
    }
   ],
   "source": [
    "params = dict( n_estimators=100,\n",
    "               eta = 0.3,\n",
    "               subsample = 0.8,\n",
    "               max_depth = 5)\n",
    "hyperopt_xgb_train_CV5( params )"
   ]
  },
  {
   "cell_type": "code",
   "execution_count": 205,
   "id": "f24ce8fa",
   "metadata": {},
   "outputs": [
    {
     "name": "stdout",
     "output_type": "stream",
     "text": [
      "100%|████████████████████████████████████████████████████████████████████████████████████████████████████████████████████████████████████████████████████████████████████████████████████████████████████████| 100/100 [02:10<00:00,  1.30s/trial, best loss: -0.7227249364379741]\n",
      "CPU times: user 12min 59s, sys: 3.89 s, total: 13min 3s\n",
      "Wall time: 2min 10s\n"
     ]
    }
   ],
   "source": [
    "%%time\n",
    "trials = Trials()\n",
    "\n",
    "best = fmin(hyperopt_xgb_train_CV5, \n",
    "            space4xgb, \n",
    "            algo=tpe.suggest, \n",
    "            max_evals=100, \n",
    "            trials=trials)"
   ]
  },
  {
   "cell_type": "markdown",
   "id": "06830068",
   "metadata": {},
   "source": [
    "# warm start : continue searching for better solutions"
   ]
  },
  {
   "cell_type": "code",
   "execution_count": 206,
   "id": "ff5e1a79",
   "metadata": {},
   "outputs": [
    {
     "name": "stdout",
     "output_type": "stream",
     "text": [
      "100%|████████████████████████████████████████████████████████████████████████████████████████████████████████████████████████████████████████████████████████████████████████████████████████████████████████| 110/110 [00:07<00:00,  1.27trial/s, best loss: -0.7227249364379741]\n"
     ]
    }
   ],
   "source": [
    "best = fmin(hyperopt_xgb_train_CV5, \n",
    "            space4xgb, \n",
    "            algo=tpe.suggest, \n",
    "            max_evals=110, \n",
    "            trials=trials)"
   ]
  },
  {
   "cell_type": "markdown",
   "id": "b2c0e71e",
   "metadata": {},
   "source": [
    "# nested search space\n",
    "\n",
    "It is possible nest elements in `hp.choice()` or `hp.pchoice()` to specify more complex search spaces:"
   ]
  },
  {
   "cell_type": "code",
   "execution_count": 208,
   "id": "a3f011c0",
   "metadata": {},
   "outputs": [],
   "source": [
    "space4nested = hp.pchoice('classifier_type',\n",
    "                          [(0.6, {'type': 'xgboost',\n",
    "                                    'n_estimators': pyll.scope.int(hp.quniform('n_estimators', 1 , 1000,1)),\n",
    "                                    'eta': hp.loguniform('eta' , np.log(10**-4) , np.log(10**2) ),\n",
    "                                    'max_depth': pyll.scope.int(hp.quniform('max_depth', 1, 16, 1)),\n",
    "                                    'subsample': hp.uniform('subsample', 0.3, 1)\n",
    "                                  }\n",
    "                            ),\n",
    "                           (0.4, {'type': 'logistic regression',\n",
    "                                  'C': hp.loguniform(\"C\", low=np.log(1e-5), high=np.log(1e2)),\n",
    "                                  'penalty': hp.choice('penalty', ['l1','l2'])\n",
    "                                  }\n",
    "                            )]\n",
    "                          )"
   ]
  },
  {
   "cell_type": "code",
   "execution_count": 230,
   "id": "8bbb73c7",
   "metadata": {},
   "outputs": [],
   "source": [
    "from sklearn.linear_model import LogisticRegression\n",
    "from sklearn.preprocessing import StandardScaler\n",
    "from sklearn.pipeline import Pipeline\n",
    "\n",
    "\n",
    "def hyperopt_complex_train_CV5( params ):\n",
    "    \n",
    "    classif_type = params.pop('type')\n",
    "    \n",
    "    model = None\n",
    "    if classif_type == 'xgboost':\n",
    "        model = xgb.XGBClassifier(n_jobs=multiprocessing.cpu_count()-2 , **params) \n",
    "    \n",
    "    else:\n",
    "        model =Pipeline([('scalar',StandardScaler()), \n",
    "                      ('model',LogisticRegression(solver ='liblinear', class_weight='balanced', **params))])\n",
    "    \n",
    "    losses = -1 * cross_val_score( model  , \n",
    "                    X_heart , y_heart, scoring = 'roc_auc' , cv = skf )\n",
    "        \n",
    "    return_dict = {'loss': np.mean(losses),\n",
    "                   'loss_variance' : np.var(losses),\n",
    "                   'status': STATUS_OK\n",
    "                   }\n",
    "    return return_dict\n"
   ]
  },
  {
   "cell_type": "code",
   "execution_count": 231,
   "id": "1134ba76",
   "metadata": {},
   "outputs": [
    {
     "name": "stdout",
     "output_type": "stream",
     "text": [
      "100%|██████████████████████████████████████████████████████████████████████████████████████████████████████████████████████████████████████████████████████████████████████████████████████████████████████████| 50/50 [00:25<00:00,  1.99trial/s, best loss: -0.7293318881978887]\n",
      "CPU times: user 2min 22s, sys: 708 ms, total: 2min 22s\n",
      "Wall time: 25.2 s\n"
     ]
    }
   ],
   "source": [
    "%%time\n",
    "trials = Trials()\n",
    "best = fmin(hyperopt_complex_train_CV5, \n",
    "            space4nested, \n",
    "            algo=tpe.suggest, \n",
    "            max_evals=50, \n",
    "            trials=trials)"
   ]
  },
  {
   "cell_type": "code",
   "execution_count": 232,
   "id": "f626d292",
   "metadata": {},
   "outputs": [
    {
     "data": {
      "text/plain": [
       "Text(0, 0.5, 'loss')"
      ]
     },
     "execution_count": 232,
     "metadata": {},
     "output_type": "execute_result"
    },
    {
     "data": {
      "image/png": "[encoded data removed]",
      "text/plain": [
       "<Figure size 640x480 with 1 Axes>"
      ]
     },
     "metadata": {},
     "output_type": "display_data"
    }
   ],
   "source": [
    "ax = sns.scatterplot( x =  range(len(trials.losses())) ,  y =  trials.losses() , \n",
    "                     hue = np.array(['xgboost','logistic regression'])[trials.vals['classifier_type']] )\n",
    "ax.set_xlabel('trials')\n",
    "ax.set_ylabel('loss')"
   ]
  },
  {
   "cell_type": "code",
   "execution_count": null,
   "id": "92b8cf85",
   "metadata": {},
   "outputs": [],
   "source": []
  }
 ],
 "metadata": {
  "kernelspec": {
   "display_name": "Environment (conda_intermediateml)",
   "language": "python",
   "name": "conda_intermediateml"
  },
  "language_info": {
   "codemirror_mode": {
    "name": "ipython",
    "version": 3
   },
   "file_extension": ".py",
   "mimetype": "text/x-python",
   "name": "python",
   "nbconvert_exporter": "python",
   "pygments_lexer": "ipython3",
   "version": "3.11.9"
  }
 },
 "nbformat": 4,
 "nbformat_minor": 5
}
