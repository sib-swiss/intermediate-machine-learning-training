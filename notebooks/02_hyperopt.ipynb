{
 "cells": [
  {
   "cell_type": "markdown",
   "id": "62885abb",
   "metadata": {},
   "source": [
    "# Hyperopt\n",
    "\n"
   ]
  },
  {
   "cell_type": "code",
   "execution_count": 1,
   "id": "e96dee9a",
   "metadata": {},
   "outputs": [],
   "source": [
    "import pandas as pd\n",
    "import numpy as np\n",
    "import seaborn as sns\n",
    "import matplotlib.pyplot as plt\n",
    "import multiprocessing\n",
    "from sklearn.metrics import roc_auc_score"
   ]
  },
  {
   "cell_type": "code",
   "execution_count": 2,
   "id": "9c0c351b",
   "metadata": {},
   "outputs": [
    {
     "data": {
      "text/html": [
       "<div>\n",
       "<style scoped>\n",
       "    .dataframe tbody tr th:only-of-type {\n",
       "        vertical-align: middle;\n",
       "    }\n",
       "\n",
       "    .dataframe tbody tr th {\n",
       "        vertical-align: top;\n",
       "    }\n",
       "\n",
       "    .dataframe thead th {\n",
       "        text-align: right;\n",
       "    }\n",
       "</style>\n",
       "<table border=\"1\" class=\"dataframe\">\n",
       "  <thead>\n",
       "    <tr style=\"text-align: right;\">\n",
       "      <th></th>\n",
       "      <th>titleNo</th>\n",
       "      <th>assgNo</th>\n",
       "      <th>fixcount</th>\n",
       "      <th>firstPassCnt</th>\n",
       "      <th>P1stFixation</th>\n",
       "      <th>P2stFixation</th>\n",
       "      <th>prevFixDur</th>\n",
       "      <th>firstfixDur</th>\n",
       "      <th>firstPassFixDur</th>\n",
       "      <th>nextFixDur</th>\n",
       "      <th>...</th>\n",
       "      <th>totalFixDur</th>\n",
       "      <th>meanFixDur</th>\n",
       "      <th>nRegressFrom</th>\n",
       "      <th>regressLen</th>\n",
       "      <th>nextWordRegress</th>\n",
       "      <th>regressDur</th>\n",
       "      <th>pupilDiamMax</th>\n",
       "      <th>pupilDiamLag</th>\n",
       "      <th>timePrtctg</th>\n",
       "      <th>target</th>\n",
       "    </tr>\n",
       "  </thead>\n",
       "  <tbody>\n",
       "    <tr>\n",
       "      <th>0</th>\n",
       "      <td>1</td>\n",
       "      <td>1</td>\n",
       "      <td>1.0</td>\n",
       "      <td>1.0</td>\n",
       "      <td>1.0</td>\n",
       "      <td>0.0</td>\n",
       "      <td>166.80</td>\n",
       "      <td>194.800000</td>\n",
       "      <td>194.800000</td>\n",
       "      <td>190.80</td>\n",
       "      <td>...</td>\n",
       "      <td>194.800000</td>\n",
       "      <td>194.800000</td>\n",
       "      <td>0.0</td>\n",
       "      <td>0.0</td>\n",
       "      <td>0.000000</td>\n",
       "      <td>0.0</td>\n",
       "      <td>0.053500</td>\n",
       "      <td>0.185700</td>\n",
       "      <td>0.025460</td>\n",
       "      <td>0</td>\n",
       "    </tr>\n",
       "    <tr>\n",
       "      <th>1</th>\n",
       "      <td>1</td>\n",
       "      <td>10</td>\n",
       "      <td>1.0</td>\n",
       "      <td>1.0</td>\n",
       "      <td>1.0</td>\n",
       "      <td>0.0</td>\n",
       "      <td>159.25</td>\n",
       "      <td>209.000000</td>\n",
       "      <td>209.000000</td>\n",
       "      <td>228.75</td>\n",
       "      <td>...</td>\n",
       "      <td>209.000000</td>\n",
       "      <td>209.000000</td>\n",
       "      <td>0.0</td>\n",
       "      <td>0.0</td>\n",
       "      <td>0.000000</td>\n",
       "      <td>0.0</td>\n",
       "      <td>-0.010225</td>\n",
       "      <td>0.049650</td>\n",
       "      <td>0.035775</td>\n",
       "      <td>0</td>\n",
       "    </tr>\n",
       "    <tr>\n",
       "      <th>2</th>\n",
       "      <td>1</td>\n",
       "      <td>100</td>\n",
       "      <td>1.0</td>\n",
       "      <td>1.0</td>\n",
       "      <td>1.0</td>\n",
       "      <td>0.0</td>\n",
       "      <td>139.00</td>\n",
       "      <td>165.666667</td>\n",
       "      <td>165.666667</td>\n",
       "      <td>192.00</td>\n",
       "      <td>...</td>\n",
       "      <td>165.666667</td>\n",
       "      <td>165.666667</td>\n",
       "      <td>0.0</td>\n",
       "      <td>0.0</td>\n",
       "      <td>0.333333</td>\n",
       "      <td>0.0</td>\n",
       "      <td>0.098000</td>\n",
       "      <td>0.178500</td>\n",
       "      <td>0.022467</td>\n",
       "      <td>0</td>\n",
       "    </tr>\n",
       "    <tr>\n",
       "      <th>3</th>\n",
       "      <td>1</td>\n",
       "      <td>101</td>\n",
       "      <td>2.0</td>\n",
       "      <td>2.0</td>\n",
       "      <td>1.0</td>\n",
       "      <td>0.0</td>\n",
       "      <td>109.50</td>\n",
       "      <td>139.000000</td>\n",
       "      <td>219.000000</td>\n",
       "      <td>109.50</td>\n",
       "      <td>...</td>\n",
       "      <td>219.000000</td>\n",
       "      <td>119.333350</td>\n",
       "      <td>0.0</td>\n",
       "      <td>0.0</td>\n",
       "      <td>0.000000</td>\n",
       "      <td>0.0</td>\n",
       "      <td>0.203750</td>\n",
       "      <td>0.554500</td>\n",
       "      <td>0.056500</td>\n",
       "      <td>0</td>\n",
       "    </tr>\n",
       "    <tr>\n",
       "      <th>4</th>\n",
       "      <td>1</td>\n",
       "      <td>102</td>\n",
       "      <td>1.0</td>\n",
       "      <td>1.0</td>\n",
       "      <td>1.0</td>\n",
       "      <td>0.0</td>\n",
       "      <td>109.00</td>\n",
       "      <td>114.000000</td>\n",
       "      <td>114.000000</td>\n",
       "      <td>119.00</td>\n",
       "      <td>...</td>\n",
       "      <td>114.000000</td>\n",
       "      <td>114.000000</td>\n",
       "      <td>0.0</td>\n",
       "      <td>0.0</td>\n",
       "      <td>0.000000</td>\n",
       "      <td>0.0</td>\n",
       "      <td>0.132250</td>\n",
       "      <td>0.266125</td>\n",
       "      <td>0.020350</td>\n",
       "      <td>0</td>\n",
       "    </tr>\n",
       "  </tbody>\n",
       "</table>\n",
       "<p>5 rows × 25 columns</p>\n",
       "</div>"
      ],
      "text/plain": [
       "   titleNo  assgNo  fixcount  firstPassCnt  P1stFixation  P2stFixation  \\\n",
       "0        1       1       1.0           1.0           1.0           0.0   \n",
       "1        1      10       1.0           1.0           1.0           0.0   \n",
       "2        1     100       1.0           1.0           1.0           0.0   \n",
       "3        1     101       2.0           2.0           1.0           0.0   \n",
       "4        1     102       1.0           1.0           1.0           0.0   \n",
       "\n",
       "   prevFixDur  firstfixDur  firstPassFixDur  nextFixDur  ...  totalFixDur  \\\n",
       "0      166.80   194.800000       194.800000      190.80  ...   194.800000   \n",
       "1      159.25   209.000000       209.000000      228.75  ...   209.000000   \n",
       "2      139.00   165.666667       165.666667      192.00  ...   165.666667   \n",
       "3      109.50   139.000000       219.000000      109.50  ...   219.000000   \n",
       "4      109.00   114.000000       114.000000      119.00  ...   114.000000   \n",
       "\n",
       "   meanFixDur  nRegressFrom  regressLen  nextWordRegress  regressDur  \\\n",
       "0  194.800000           0.0         0.0         0.000000         0.0   \n",
       "1  209.000000           0.0         0.0         0.000000         0.0   \n",
       "2  165.666667           0.0         0.0         0.333333         0.0   \n",
       "3  119.333350           0.0         0.0         0.000000         0.0   \n",
       "4  114.000000           0.0         0.0         0.000000         0.0   \n",
       "\n",
       "   pupilDiamMax  pupilDiamLag  timePrtctg  target  \n",
       "0      0.053500      0.185700    0.025460       0  \n",
       "1     -0.010225      0.049650    0.035775       0  \n",
       "2      0.098000      0.178500    0.022467       0  \n",
       "3      0.203750      0.554500    0.056500       0  \n",
       "4      0.132250      0.266125    0.020350       0  \n",
       "\n",
       "[5 rows x 25 columns]"
      ]
     },
     "execution_count": 2,
     "metadata": {},
     "output_type": "execute_result"
    }
   ],
   "source": [
    "## we start again by reading our data\n",
    "\n",
    "eye_movements = pd.read_csv(\"../data/eye_movements_aggregated.csv\")\n",
    "eye_movements.head()"
   ]
  },
  {
   "cell_type": "code",
   "execution_count": 3,
   "id": "e3e8f562",
   "metadata": {},
   "outputs": [
    {
     "data": {
      "text/plain": [
       "(2664, 25)"
      ]
     },
     "execution_count": 3,
     "metadata": {},
     "output_type": "execute_result"
    }
   ],
   "source": [
    "eye_movements.shape"
   ]
  },
  {
   "cell_type": "code",
   "execution_count": 4,
   "id": "64b7657c",
   "metadata": {},
   "outputs": [],
   "source": [
    "eye_features = eye_movements.loc[:,['fixcount', 'firstPassCnt', 'P1stFixation', 'P2stFixation',\n",
    "       'prevFixDur', 'firstfixDur', 'firstPassFixDur', 'nextFixDur',\n",
    "       'firstSaccLen', 'lastSaccLen', 'prevFixPos', 'landingPos', 'leavingPos',\n",
    "       'totalFixDur', 'meanFixDur', 'nRegressFrom', 'regressLen',\n",
    "       'nextWordRegress', 'regressDur', 'pupilDiamMax', 'pupilDiamLag',\n",
    "       'timePrtctg']]\n",
    "labels = eye_movements['target'].astype(int)"
   ]
  },
  {
   "cell_type": "code",
   "execution_count": null,
   "id": "2853623f",
   "metadata": {},
   "outputs": [],
   "source": []
  },
  {
   "cell_type": "code",
   "execution_count": 5,
   "id": "36128741",
   "metadata": {},
   "outputs": [],
   "source": [
    "##let's start by splitting the data into a train and a validation set\n",
    "from sklearn.model_selection import train_test_split\n",
    "\n",
    "X_train, X_valid, y_train, y_valid = train_test_split(eye_features, labels, test_size=0.2, random_state=123)\n"
   ]
  },
  {
   "cell_type": "markdown",
   "id": "c3ad6a71",
   "metadata": {},
   "source": [
    "we train a model to gain an idea of baseline performance "
   ]
  },
  {
   "cell_type": "code",
   "execution_count": 6,
   "id": "f4b200c2",
   "metadata": {},
   "outputs": [
    {
     "name": "stdout",
     "output_type": "stream",
     "text": [
      "CPU times: user 1min 20s, sys: 160 ms, total: 1min 20s\n",
      "Wall time: 23.2 s\n"
     ]
    },
    {
     "data": {
      "text/html": [
       "<style>#sk-container-id-1 {\n",
       "  /* Definition of color scheme common for light and dark mode */\n",
       "  --sklearn-color-text: black;\n",
       "  --sklearn-color-line: gray;\n",
       "  /* Definition of color scheme for unfitted estimators */\n",
       "  --sklearn-color-unfitted-level-0: #fff5e6;\n",
       "  --sklearn-color-unfitted-level-1: #f6e4d2;\n",
       "  --sklearn-color-unfitted-level-2: #ffe0b3;\n",
       "  --sklearn-color-unfitted-level-3: chocolate;\n",
       "  /* Definition of color scheme for fitted estimators */\n",
       "  --sklearn-color-fitted-level-0: #f0f8ff;\n",
       "  --sklearn-color-fitted-level-1: #d4ebff;\n",
       "  --sklearn-color-fitted-level-2: #b3dbfd;\n",
       "  --sklearn-color-fitted-level-3: cornflowerblue;\n",
       "\n",
       "  /* Specific color for light theme */\n",
       "  --sklearn-color-text-on-default-background: var(--sg-text-color, var(--theme-code-foreground, var(--jp-content-font-color1, black)));\n",
       "  --sklearn-color-background: var(--sg-background-color, var(--theme-background, var(--jp-layout-color0, white)));\n",
       "  --sklearn-color-border-box: var(--sg-text-color, var(--theme-code-foreground, var(--jp-content-font-color1, black)));\n",
       "  --sklearn-color-icon: #696969;\n",
       "\n",
       "  @media (prefers-color-scheme: dark) {\n",
       "    /* Redefinition of color scheme for dark theme */\n",
       "    --sklearn-color-text-on-default-background: var(--sg-text-color, var(--theme-code-foreground, var(--jp-content-font-color1, white)));\n",
       "    --sklearn-color-background: var(--sg-background-color, var(--theme-background, var(--jp-layout-color0, #111)));\n",
       "    --sklearn-color-border-box: var(--sg-text-color, var(--theme-code-foreground, var(--jp-content-font-color1, white)));\n",
       "    --sklearn-color-icon: #878787;\n",
       "  }\n",
       "}\n",
       "\n",
       "#sk-container-id-1 {\n",
       "  color: var(--sklearn-color-text);\n",
       "}\n",
       "\n",
       "#sk-container-id-1 pre {\n",
       "  padding: 0;\n",
       "}\n",
       "\n",
       "#sk-container-id-1 input.sk-hidden--visually {\n",
       "  border: 0;\n",
       "  clip: rect(1px 1px 1px 1px);\n",
       "  clip: rect(1px, 1px, 1px, 1px);\n",
       "  height: 1px;\n",
       "  margin: -1px;\n",
       "  overflow: hidden;\n",
       "  padding: 0;\n",
       "  position: absolute;\n",
       "  width: 1px;\n",
       "}\n",
       "\n",
       "#sk-container-id-1 div.sk-dashed-wrapped {\n",
       "  border: 1px dashed var(--sklearn-color-line);\n",
       "  margin: 0 0.4em 0.5em 0.4em;\n",
       "  box-sizing: border-box;\n",
       "  padding-bottom: 0.4em;\n",
       "  background-color: var(--sklearn-color-background);\n",
       "}\n",
       "\n",
       "#sk-container-id-1 div.sk-container {\n",
       "  /* jupyter's `normalize.less` sets `[hidden] { display: none; }`\n",
       "     but bootstrap.min.css set `[hidden] { display: none !important; }`\n",
       "     so we also need the `!important` here to be able to override the\n",
       "     default hidden behavior on the sphinx rendered scikit-learn.org.\n",
       "     See: https://github.com/scikit-learn/scikit-learn/issues/21755 */\n",
       "  display: inline-block !important;\n",
       "  position: relative;\n",
       "}\n",
       "\n",
       "#sk-container-id-1 div.sk-text-repr-fallback {\n",
       "  display: none;\n",
       "}\n",
       "\n",
       "div.sk-parallel-item,\n",
       "div.sk-serial,\n",
       "div.sk-item {\n",
       "  /* draw centered vertical line to link estimators */\n",
       "  background-image: linear-gradient(var(--sklearn-color-text-on-default-background), var(--sklearn-color-text-on-default-background));\n",
       "  background-size: 2px 100%;\n",
       "  background-repeat: no-repeat;\n",
       "  background-position: center center;\n",
       "}\n",
       "\n",
       "/* Parallel-specific style estimator block */\n",
       "\n",
       "#sk-container-id-1 div.sk-parallel-item::after {\n",
       "  content: \"\";\n",
       "  width: 100%;\n",
       "  border-bottom: 2px solid var(--sklearn-color-text-on-default-background);\n",
       "  flex-grow: 1;\n",
       "}\n",
       "\n",
       "#sk-container-id-1 div.sk-parallel {\n",
       "  display: flex;\n",
       "  align-items: stretch;\n",
       "  justify-content: center;\n",
       "  background-color: var(--sklearn-color-background);\n",
       "  position: relative;\n",
       "}\n",
       "\n",
       "#sk-container-id-1 div.sk-parallel-item {\n",
       "  display: flex;\n",
       "  flex-direction: column;\n",
       "}\n",
       "\n",
       "#sk-container-id-1 div.sk-parallel-item:first-child::after {\n",
       "  align-self: flex-end;\n",
       "  width: 50%;\n",
       "}\n",
       "\n",
       "#sk-container-id-1 div.sk-parallel-item:last-child::after {\n",
       "  align-self: flex-start;\n",
       "  width: 50%;\n",
       "}\n",
       "\n",
       "#sk-container-id-1 div.sk-parallel-item:only-child::after {\n",
       "  width: 0;\n",
       "}\n",
       "\n",
       "/* Serial-specific style estimator block */\n",
       "\n",
       "#sk-container-id-1 div.sk-serial {\n",
       "  display: flex;\n",
       "  flex-direction: column;\n",
       "  align-items: center;\n",
       "  background-color: var(--sklearn-color-background);\n",
       "  padding-right: 1em;\n",
       "  padding-left: 1em;\n",
       "}\n",
       "\n",
       "\n",
       "/* Toggleable style: style used for estimator/Pipeline/ColumnTransformer box that is\n",
       "clickable and can be expanded/collapsed.\n",
       "- Pipeline and ColumnTransformer use this feature and define the default style\n",
       "- Estimators will overwrite some part of the style using the `sk-estimator` class\n",
       "*/\n",
       "\n",
       "/* Pipeline and ColumnTransformer style (default) */\n",
       "\n",
       "#sk-container-id-1 div.sk-toggleable {\n",
       "  /* Default theme specific background. It is overwritten whether we have a\n",
       "  specific estimator or a Pipeline/ColumnTransformer */\n",
       "  background-color: var(--sklearn-color-background);\n",
       "}\n",
       "\n",
       "/* Toggleable label */\n",
       "#sk-container-id-1 label.sk-toggleable__label {\n",
       "  cursor: pointer;\n",
       "  display: block;\n",
       "  width: 100%;\n",
       "  margin-bottom: 0;\n",
       "  padding: 0.5em;\n",
       "  box-sizing: border-box;\n",
       "  text-align: center;\n",
       "}\n",
       "\n",
       "#sk-container-id-1 label.sk-toggleable__label-arrow:before {\n",
       "  /* Arrow on the left of the label */\n",
       "  content: \"▸\";\n",
       "  float: left;\n",
       "  margin-right: 0.25em;\n",
       "  color: var(--sklearn-color-icon);\n",
       "}\n",
       "\n",
       "#sk-container-id-1 label.sk-toggleable__label-arrow:hover:before {\n",
       "  color: var(--sklearn-color-text);\n",
       "}\n",
       "\n",
       "/* Toggleable content - dropdown */\n",
       "\n",
       "#sk-container-id-1 div.sk-toggleable__content {\n",
       "  max-height: 0;\n",
       "  max-width: 0;\n",
       "  overflow: hidden;\n",
       "  text-align: left;\n",
       "  /* unfitted */\n",
       "  background-color: var(--sklearn-color-unfitted-level-0);\n",
       "}\n",
       "\n",
       "#sk-container-id-1 div.sk-toggleable__content.fitted {\n",
       "  /* fitted */\n",
       "  background-color: var(--sklearn-color-fitted-level-0);\n",
       "}\n",
       "\n",
       "#sk-container-id-1 div.sk-toggleable__content pre {\n",
       "  margin: 0.2em;\n",
       "  border-radius: 0.25em;\n",
       "  color: var(--sklearn-color-text);\n",
       "  /* unfitted */\n",
       "  background-color: var(--sklearn-color-unfitted-level-0);\n",
       "}\n",
       "\n",
       "#sk-container-id-1 div.sk-toggleable__content.fitted pre {\n",
       "  /* unfitted */\n",
       "  background-color: var(--sklearn-color-fitted-level-0);\n",
       "}\n",
       "\n",
       "#sk-container-id-1 input.sk-toggleable__control:checked~div.sk-toggleable__content {\n",
       "  /* Expand drop-down */\n",
       "  max-height: 200px;\n",
       "  max-width: 100%;\n",
       "  overflow: auto;\n",
       "}\n",
       "\n",
       "#sk-container-id-1 input.sk-toggleable__control:checked~label.sk-toggleable__label-arrow:before {\n",
       "  content: \"▾\";\n",
       "}\n",
       "\n",
       "/* Pipeline/ColumnTransformer-specific style */\n",
       "\n",
       "#sk-container-id-1 div.sk-label input.sk-toggleable__control:checked~label.sk-toggleable__label {\n",
       "  color: var(--sklearn-color-text);\n",
       "  background-color: var(--sklearn-color-unfitted-level-2);\n",
       "}\n",
       "\n",
       "#sk-container-id-1 div.sk-label.fitted input.sk-toggleable__control:checked~label.sk-toggleable__label {\n",
       "  background-color: var(--sklearn-color-fitted-level-2);\n",
       "}\n",
       "\n",
       "/* Estimator-specific style */\n",
       "\n",
       "/* Colorize estimator box */\n",
       "#sk-container-id-1 div.sk-estimator input.sk-toggleable__control:checked~label.sk-toggleable__label {\n",
       "  /* unfitted */\n",
       "  background-color: var(--sklearn-color-unfitted-level-2);\n",
       "}\n",
       "\n",
       "#sk-container-id-1 div.sk-estimator.fitted input.sk-toggleable__control:checked~label.sk-toggleable__label {\n",
       "  /* fitted */\n",
       "  background-color: var(--sklearn-color-fitted-level-2);\n",
       "}\n",
       "\n",
       "#sk-container-id-1 div.sk-label label.sk-toggleable__label,\n",
       "#sk-container-id-1 div.sk-label label {\n",
       "  /* The background is the default theme color */\n",
       "  color: var(--sklearn-color-text-on-default-background);\n",
       "}\n",
       "\n",
       "/* On hover, darken the color of the background */\n",
       "#sk-container-id-1 div.sk-label:hover label.sk-toggleable__label {\n",
       "  color: var(--sklearn-color-text);\n",
       "  background-color: var(--sklearn-color-unfitted-level-2);\n",
       "}\n",
       "\n",
       "/* Label box, darken color on hover, fitted */\n",
       "#sk-container-id-1 div.sk-label.fitted:hover label.sk-toggleable__label.fitted {\n",
       "  color: var(--sklearn-color-text);\n",
       "  background-color: var(--sklearn-color-fitted-level-2);\n",
       "}\n",
       "\n",
       "/* Estimator label */\n",
       "\n",
       "#sk-container-id-1 div.sk-label label {\n",
       "  font-family: monospace;\n",
       "  font-weight: bold;\n",
       "  display: inline-block;\n",
       "  line-height: 1.2em;\n",
       "}\n",
       "\n",
       "#sk-container-id-1 div.sk-label-container {\n",
       "  text-align: center;\n",
       "}\n",
       "\n",
       "/* Estimator-specific */\n",
       "#sk-container-id-1 div.sk-estimator {\n",
       "  font-family: monospace;\n",
       "  border: 1px dotted var(--sklearn-color-border-box);\n",
       "  border-radius: 0.25em;\n",
       "  box-sizing: border-box;\n",
       "  margin-bottom: 0.5em;\n",
       "  /* unfitted */\n",
       "  background-color: var(--sklearn-color-unfitted-level-0);\n",
       "}\n",
       "\n",
       "#sk-container-id-1 div.sk-estimator.fitted {\n",
       "  /* fitted */\n",
       "  background-color: var(--sklearn-color-fitted-level-0);\n",
       "}\n",
       "\n",
       "/* on hover */\n",
       "#sk-container-id-1 div.sk-estimator:hover {\n",
       "  /* unfitted */\n",
       "  background-color: var(--sklearn-color-unfitted-level-2);\n",
       "}\n",
       "\n",
       "#sk-container-id-1 div.sk-estimator.fitted:hover {\n",
       "  /* fitted */\n",
       "  background-color: var(--sklearn-color-fitted-level-2);\n",
       "}\n",
       "\n",
       "/* Specification for estimator info (e.g. \"i\" and \"?\") */\n",
       "\n",
       "/* Common style for \"i\" and \"?\" */\n",
       "\n",
       ".sk-estimator-doc-link,\n",
       "a:link.sk-estimator-doc-link,\n",
       "a:visited.sk-estimator-doc-link {\n",
       "  float: right;\n",
       "  font-size: smaller;\n",
       "  line-height: 1em;\n",
       "  font-family: monospace;\n",
       "  background-color: var(--sklearn-color-background);\n",
       "  border-radius: 1em;\n",
       "  height: 1em;\n",
       "  width: 1em;\n",
       "  text-decoration: none !important;\n",
       "  margin-left: 1ex;\n",
       "  /* unfitted */\n",
       "  border: var(--sklearn-color-unfitted-level-1) 1pt solid;\n",
       "  color: var(--sklearn-color-unfitted-level-1);\n",
       "}\n",
       "\n",
       ".sk-estimator-doc-link.fitted,\n",
       "a:link.sk-estimator-doc-link.fitted,\n",
       "a:visited.sk-estimator-doc-link.fitted {\n",
       "  /* fitted */\n",
       "  border: var(--sklearn-color-fitted-level-1) 1pt solid;\n",
       "  color: var(--sklearn-color-fitted-level-1);\n",
       "}\n",
       "\n",
       "/* On hover */\n",
       "div.sk-estimator:hover .sk-estimator-doc-link:hover,\n",
       ".sk-estimator-doc-link:hover,\n",
       "div.sk-label-container:hover .sk-estimator-doc-link:hover,\n",
       ".sk-estimator-doc-link:hover {\n",
       "  /* unfitted */\n",
       "  background-color: var(--sklearn-color-unfitted-level-3);\n",
       "  color: var(--sklearn-color-background);\n",
       "  text-decoration: none;\n",
       "}\n",
       "\n",
       "div.sk-estimator.fitted:hover .sk-estimator-doc-link.fitted:hover,\n",
       ".sk-estimator-doc-link.fitted:hover,\n",
       "div.sk-label-container:hover .sk-estimator-doc-link.fitted:hover,\n",
       ".sk-estimator-doc-link.fitted:hover {\n",
       "  /* fitted */\n",
       "  background-color: var(--sklearn-color-fitted-level-3);\n",
       "  color: var(--sklearn-color-background);\n",
       "  text-decoration: none;\n",
       "}\n",
       "\n",
       "/* Span, style for the box shown on hovering the info icon */\n",
       ".sk-estimator-doc-link span {\n",
       "  display: none;\n",
       "  z-index: 9999;\n",
       "  position: relative;\n",
       "  font-weight: normal;\n",
       "  right: .2ex;\n",
       "  padding: .5ex;\n",
       "  margin: .5ex;\n",
       "  width: min-content;\n",
       "  min-width: 20ex;\n",
       "  max-width: 50ex;\n",
       "  color: var(--sklearn-color-text);\n",
       "  box-shadow: 2pt 2pt 4pt #999;\n",
       "  /* unfitted */\n",
       "  background: var(--sklearn-color-unfitted-level-0);\n",
       "  border: .5pt solid var(--sklearn-color-unfitted-level-3);\n",
       "}\n",
       "\n",
       ".sk-estimator-doc-link.fitted span {\n",
       "  /* fitted */\n",
       "  background: var(--sklearn-color-fitted-level-0);\n",
       "  border: var(--sklearn-color-fitted-level-3);\n",
       "}\n",
       "\n",
       ".sk-estimator-doc-link:hover span {\n",
       "  display: block;\n",
       "}\n",
       "\n",
       "/* \"?\"-specific style due to the `<a>` HTML tag */\n",
       "\n",
       "#sk-container-id-1 a.estimator_doc_link {\n",
       "  float: right;\n",
       "  font-size: 1rem;\n",
       "  line-height: 1em;\n",
       "  font-family: monospace;\n",
       "  background-color: var(--sklearn-color-background);\n",
       "  border-radius: 1rem;\n",
       "  height: 1rem;\n",
       "  width: 1rem;\n",
       "  text-decoration: none;\n",
       "  /* unfitted */\n",
       "  color: var(--sklearn-color-unfitted-level-1);\n",
       "  border: var(--sklearn-color-unfitted-level-1) 1pt solid;\n",
       "}\n",
       "\n",
       "#sk-container-id-1 a.estimator_doc_link.fitted {\n",
       "  /* fitted */\n",
       "  border: var(--sklearn-color-fitted-level-1) 1pt solid;\n",
       "  color: var(--sklearn-color-fitted-level-1);\n",
       "}\n",
       "\n",
       "/* On hover */\n",
       "#sk-container-id-1 a.estimator_doc_link:hover {\n",
       "  /* unfitted */\n",
       "  background-color: var(--sklearn-color-unfitted-level-3);\n",
       "  color: var(--sklearn-color-background);\n",
       "  text-decoration: none;\n",
       "}\n",
       "\n",
       "#sk-container-id-1 a.estimator_doc_link.fitted:hover {\n",
       "  /* fitted */\n",
       "  background-color: var(--sklearn-color-fitted-level-3);\n",
       "}\n",
       "</style><div id=\"sk-container-id-1\" class=\"sk-top-container\"><div class=\"sk-text-repr-fallback\"><pre>XGBClassifier(base_score=None, booster=None, callbacks=None,\n",
       "              colsample_bylevel=None, colsample_bynode=None,\n",
       "              colsample_bytree=None, device=None, early_stopping_rounds=None,\n",
       "              enable_categorical=False, eval_metric=None, feature_types=None,\n",
       "              gamma=None, grow_policy=None, importance_type=None,\n",
       "              interaction_constraints=None, learning_rate=None, max_bin=None,\n",
       "              max_cat_threshold=None, max_cat_to_onehot=None,\n",
       "              max_delta_step=None, max_depth=None, max_leaves=None,\n",
       "              min_child_weight=None, missing=nan, monotone_constraints=None,\n",
       "              multi_strategy=None, n_estimators=None, n_jobs=6,\n",
       "              num_parallel_tree=None, objective=&#x27;multi:softprob&#x27;, ...)</pre><b>In a Jupyter environment, please rerun this cell to show the HTML representation or trust the notebook. <br />On GitHub, the HTML representation is unable to render, please try loading this page with nbviewer.org.</b></div><div class=\"sk-container\" hidden><div class=\"sk-item\"><div class=\"sk-estimator fitted sk-toggleable\"><input class=\"sk-toggleable__control sk-hidden--visually\" id=\"sk-estimator-id-1\" type=\"checkbox\" checked><label for=\"sk-estimator-id-1\" class=\"sk-toggleable__label fitted sk-toggleable__label-arrow fitted\">&nbsp;XGBClassifier<span class=\"sk-estimator-doc-link fitted\">i<span>Fitted</span></span></label><div class=\"sk-toggleable__content fitted\"><pre>XGBClassifier(base_score=None, booster=None, callbacks=None,\n",
       "              colsample_bylevel=None, colsample_bynode=None,\n",
       "              colsample_bytree=None, device=None, early_stopping_rounds=None,\n",
       "              enable_categorical=False, eval_metric=None, feature_types=None,\n",
       "              gamma=None, grow_policy=None, importance_type=None,\n",
       "              interaction_constraints=None, learning_rate=None, max_bin=None,\n",
       "              max_cat_threshold=None, max_cat_to_onehot=None,\n",
       "              max_delta_step=None, max_depth=None, max_leaves=None,\n",
       "              min_child_weight=None, missing=nan, monotone_constraints=None,\n",
       "              multi_strategy=None, n_estimators=None, n_jobs=6,\n",
       "              num_parallel_tree=None, objective=&#x27;multi:softprob&#x27;, ...)</pre></div> </div></div></div></div>"
      ],
      "text/plain": [
       "XGBClassifier(base_score=None, booster=None, callbacks=None,\n",
       "              colsample_bylevel=None, colsample_bynode=None,\n",
       "              colsample_bytree=None, device=None, early_stopping_rounds=None,\n",
       "              enable_categorical=False, eval_metric=None, feature_types=None,\n",
       "              gamma=None, grow_policy=None, importance_type=None,\n",
       "              interaction_constraints=None, learning_rate=None, max_bin=None,\n",
       "              max_cat_threshold=None, max_cat_to_onehot=None,\n",
       "              max_delta_step=None, max_depth=None, max_leaves=None,\n",
       "              min_child_weight=None, missing=nan, monotone_constraints=None,\n",
       "              multi_strategy=None, n_estimators=None, n_jobs=6,\n",
       "              num_parallel_tree=None, objective='multi:softprob', ...)"
      ]
     },
     "execution_count": 6,
     "metadata": {},
     "output_type": "execute_result"
    }
   ],
   "source": [
    "%%time \n",
    "import xgboost as xgb\n",
    "xgb_model = xgb.XGBClassifier(n_jobs=multiprocessing.cpu_count()-2)\n",
    "\n",
    "xgb_model.fit(X_train, y_train)"
   ]
  },
  {
   "cell_type": "code",
   "execution_count": 7,
   "id": "c62ff1b9",
   "metadata": {},
   "outputs": [
    {
     "name": "stdout",
     "output_type": "stream",
     "text": [
      "train st performance: 1.0\n",
      "valid set performance: 0.7498756501657234\n"
     ]
    }
   ],
   "source": [
    "print( 'train st performance:',roc_auc_score(y_train , xgb_model.predict_proba( X_train ) , multi_class='ovr' ) )\n",
    "print( 'valid set performance:',roc_auc_score(y_valid , xgb_model.predict_proba( X_valid ) , multi_class='ovr') )"
   ]
  },
  {
   "cell_type": "markdown",
   "id": "23c97d70",
   "metadata": {},
   "source": [
    "# \"basic\" usage "
   ]
  },
  {
   "cell_type": "code",
   "execution_count": 8,
   "id": "85eabec5",
   "metadata": {},
   "outputs": [],
   "source": [
    "from hyperopt import hp, fmin, tpe, rand, pyll, STATUS_OK, STATUS_FAIL, Trials, space_eval"
   ]
  },
  {
   "cell_type": "markdown",
   "id": "f912f136",
   "metadata": {},
   "source": [
    "## function to optimize\n",
    "\n",
    "We need to write a function which :\n",
    " * takes a dictionary of parameters as arguments\n",
    " * returns a dictionnary containing the computed loss and a status value\n",
    " \n",
    "Importantly, the loss is a value which we want to **minimize**, so in our case we will\n",
    "use -AUC(validation data)"
   ]
  },
  {
   "cell_type": "code",
   "execution_count": 9,
   "id": "d76d7259",
   "metadata": {},
   "outputs": [],
   "source": [
    "\n",
    "def hyperopt_xgb_train( params ):\n",
    "    \n",
    "    xgb_model = xgb.XGBClassifier(n_jobs=multiprocessing.cpu_count()-2 , **params)\n",
    "    xgb_model.fit(X_train, y_train)\n",
    "    \n",
    "    loss = -roc_auc_score(y_valid , xgb_model.predict_proba( X_valid ) , multi_class='ovr' )\n",
    "    return_dict = {'loss': loss,\n",
    "                   'status': STATUS_OK\n",
    "                   }\n",
    "    return return_dict\n"
   ]
  },
  {
   "cell_type": "code",
   "execution_count": 10,
   "id": "273e119c",
   "metadata": {},
   "outputs": [
    {
     "data": {
      "text/plain": [
       "{'loss': np.float64(-0.7537885939813355), 'status': 'ok'}"
      ]
     },
     "execution_count": 10,
     "metadata": {},
     "output_type": "execute_result"
    }
   ],
   "source": [
    "params = dict( n_estimators=100,\n",
    "               eta = 0.3,\n",
    "               subsample = 0.8,\n",
    "               max_depth = 5)\n",
    "hyperopt_xgb_train( params )"
   ]
  },
  {
   "cell_type": "markdown",
   "id": "bd7735d4",
   "metadata": {},
   "source": [
    "## parameter search-space\n",
    "\n",
    "The way it works is that for each hyper-parameter you define a **prior distribution** (it is bayesian afterall) using one of hyperopt function.\n",
    "\n",
    "For a more detailed documentation we refer you to the [hyperopt documentation](http://hyperopt.github.io/hyperopt/getting-started/search_spaces/)"
   ]
  },
  {
   "cell_type": "code",
   "execution_count": 11,
   "id": "8b4a691d",
   "metadata": {},
   "outputs": [
    {
     "data": {
      "text/plain": [
       "<hyperopt.pyll.base.Apply at 0x7fd15e391510>"
      ]
     },
     "execution_count": 11,
     "metadata": {},
     "output_type": "execute_result"
    }
   ],
   "source": [
    "simple_uniform = hp.uniform('simple', 0, 1)\n",
    "simple_uniform"
   ]
  },
  {
   "cell_type": "code",
   "execution_count": 12,
   "id": "75ab5a43",
   "metadata": {},
   "outputs": [
    {
     "data": {
      "text/plain": [
       "0.13478973942114825"
      ]
     },
     "execution_count": 12,
     "metadata": {},
     "output_type": "execute_result"
    }
   ],
   "source": [
    "pyll.stochastic.sample(simple_uniform)"
   ]
  },
  {
   "cell_type": "code",
   "execution_count": 13,
   "id": "5531df54",
   "metadata": {},
   "outputs": [
    {
     "data": {
      "text/plain": [
       "19.335710068890428"
      ]
     },
     "execution_count": 13,
     "metadata": {},
     "output_type": "execute_result"
    }
   ],
   "source": [
    "eta = hp.loguniform('eta' , np.log(10**-4) , np.log(10**2) )\n",
    "pyll.stochastic.sample(eta)"
   ]
  },
  {
   "cell_type": "code",
   "execution_count": 14,
   "id": "5ca4ffde",
   "metadata": {},
   "outputs": [
    {
     "data": {
      "text/plain": [
       "<Axes: ylabel='Count'>"
      ]
     },
     "execution_count": 14,
     "metadata": {},
     "output_type": "execute_result"
    },
    {
     "data": {
      "image/png": "[encoded data removed]",
      "text/plain": [
       "<Figure size 640x480 with 1 Axes>"
      ]
     },
     "metadata": {},
     "output_type": "display_data"
    }
   ],
   "source": [
    "sns.histplot( [ np.log10( pyll.stochastic.sample(eta) ) for _ in range(10000) ] )"
   ]
  },
  {
   "cell_type": "markdown",
   "id": "63efab17",
   "metadata": {},
   "source": [
    "**exercise** : which prior distribution could we give `n_estimators`? to `max_depth` ? "
   ]
  },
  {
   "cell_type": "code",
   "execution_count": null,
   "id": "68f9daff",
   "metadata": {},
   "outputs": [],
   "source": []
  },
  {
   "cell_type": "code",
   "execution_count": 15,
   "id": "7651ea67",
   "metadata": {},
   "outputs": [],
   "source": [
    "## proposed parameter space\n",
    "# %load solutions/solution_hyperopt_parameter_space.py"
   ]
  },
  {
   "cell_type": "markdown",
   "id": "53e2e3d0",
   "metadata": {},
   "source": [
    "## minimizing"
   ]
  },
  {
   "cell_type": "code",
   "execution_count": 16,
   "id": "769f3d06",
   "metadata": {},
   "outputs": [
    {
     "ename": "NameError",
     "evalue": "name 'space4xgb' is not defined",
     "output_type": "error",
     "traceback": [
      "\u001b[0;31m---------------------------------------------------------------------------\u001b[0m",
      "\u001b[0;31mNameError\u001b[0m                                 Traceback (most recent call last)",
      "File \u001b[0;32m<timed exec>:4\u001b[0m\n",
      "\u001b[0;31mNameError\u001b[0m: name 'space4xgb' is not defined"
     ]
    }
   ],
   "source": [
    "%%time\n",
    "trials = Trials()\n",
    "\n",
    "best = fmin(hyperopt_xgb_train, \n",
    "            space4xgb, \n",
    "            algo=tpe.suggest, \n",
    "            max_evals=10, \n",
    "            trials=trials)"
   ]
  },
  {
   "cell_type": "code",
   "execution_count": 17,
   "id": "e51cb2a2",
   "metadata": {},
   "outputs": [
    {
     "ename": "NameError",
     "evalue": "name 'best' is not defined",
     "output_type": "error",
     "traceback": [
      "\u001b[0;31m---------------------------------------------------------------------------\u001b[0m",
      "\u001b[0;31mNameError\u001b[0m                                 Traceback (most recent call last)",
      "Cell \u001b[0;32mIn[17], line 1\u001b[0m\n\u001b[0;32m----> 1\u001b[0m \u001b[43mbest\u001b[49m\n",
      "\u001b[0;31mNameError\u001b[0m: name 'best' is not defined"
     ]
    }
   ],
   "source": [
    "best"
   ]
  },
  {
   "cell_type": "code",
   "execution_count": null,
   "id": "8cc05b74",
   "metadata": {},
   "outputs": [],
   "source": [
    "len( trials )"
   ]
  },
  {
   "cell_type": "code",
   "execution_count": null,
   "id": "f79f4eb3",
   "metadata": {},
   "outputs": [],
   "source": [
    "trials.trials"
   ]
  },
  {
   "cell_type": "code",
   "execution_count": null,
   "id": "7532167c",
   "metadata": {},
   "outputs": [],
   "source": [
    "trials.results[:10]"
   ]
  },
  {
   "cell_type": "code",
   "execution_count": null,
   "id": "35adadf3",
   "metadata": {},
   "outputs": [],
   "source": [
    "trials.losses()[:10]"
   ]
  },
  {
   "cell_type": "code",
   "execution_count": null,
   "id": "485b13ca",
   "metadata": {},
   "outputs": [],
   "source": [
    "trials.vals.keys()"
   ]
  },
  {
   "cell_type": "code",
   "execution_count": null,
   "id": "849f02ba",
   "metadata": {},
   "outputs": [],
   "source": [
    "for k in trials.vals.keys():\n",
    "    print(k , trials.vals[k][:5])"
   ]
  },
  {
   "cell_type": "code",
   "execution_count": null,
   "id": "d74e0afe",
   "metadata": {},
   "outputs": [],
   "source": [
    "fig,ax = plt.subplots(figsize=(10,5))\n",
    "\n",
    "sns.kdeplot( np.log10( trials.vals['eta'] ) , ax=ax , cut = 0 , label='sampled')\n",
    "sns.histplot( np.log10( trials.vals['eta'] ) , binwidth=0.5 , ax=ax , label='sampled' , stat = 'density')\n",
    "\n",
    "sns.kdeplot( [ np.log10( pyll.stochastic.sample(eta) ) for _ in range(10000) ] , ax=ax , cut = 0 , label='prior')\n",
    "ax.set_xlabel('eta')\n",
    "ax.legend()"
   ]
  },
  {
   "cell_type": "code",
   "execution_count": null,
   "id": "a6b2959d",
   "metadata": {},
   "outputs": [],
   "source": [
    "\n",
    "ax = sns.scatterplot( x = np.log10( trials.vals['eta'] ) ,\n",
    "                 y =  trials.losses() )\n",
    "ax.set_xlabel('eta')\n",
    "ax.set_ylabel('loss')"
   ]
  },
  {
   "cell_type": "code",
   "execution_count": null,
   "id": "91661c50",
   "metadata": {},
   "outputs": [],
   "source": [
    "ax = sns.scatterplot( x =  range(len(trials.losses())) ,  y =  trials.losses() )\n",
    "ax.set_xlabel('trials')\n",
    "ax.set_ylabel('loss')"
   ]
  },
  {
   "cell_type": "code",
   "execution_count": null,
   "id": "83f31d78",
   "metadata": {},
   "outputs": [],
   "source": [
    "\n"
   ]
  },
  {
   "cell_type": "code",
   "execution_count": null,
   "id": "a3584ec4",
   "metadata": {},
   "outputs": [],
   "source": []
  },
  {
   "cell_type": "markdown",
   "id": "87302a03",
   "metadata": {},
   "source": [
    "# changing the cross-validation scheme"
   ]
  },
  {
   "cell_type": "code",
   "execution_count": null,
   "id": "4ec61fda",
   "metadata": {},
   "outputs": [],
   "source": [
    "from sklearn.model_selection import StratifiedKFold"
   ]
  },
  {
   "cell_type": "code",
   "execution_count": null,
   "id": "13786831",
   "metadata": {},
   "outputs": [],
   "source": [
    "skf = StratifiedKFold(n_splits=5 , shuffle=True , random_state = 2024 )\n",
    "for t,v in skf.split( eye_features, labels ):\n",
    "\n",
    "    print(len(t), t[:5])\n",
    "    print(len(v), v[:5])"
   ]
  },
  {
   "cell_type": "code",
   "execution_count": null,
   "id": "00e335d9",
   "metadata": {},
   "outputs": [],
   "source": [
    "from sklearn.model_selection import cross_val_score\n",
    "cross_val_score( xgb.XGBClassifier(n_jobs=multiprocessing.cpu_count()-2) , \n",
    "                eye_features, labels, scoring = 'roc_auc_ovr' , cv = skf )"
   ]
  },
  {
   "cell_type": "markdown",
   "id": "cb0f6fbc",
   "metadata": {},
   "source": [
    "### exercise\n",
    "\n",
    "Write the function we will give to `fmin` to evaluate an XGBoost classifier with 5-fold CV with a ROC AUC score.\n"
   ]
  },
  {
   "cell_type": "code",
   "execution_count": null,
   "id": "80240190",
   "metadata": {},
   "outputs": [],
   "source": [
    "## tentative solution\n",
    "def hyperopt_xgb_train_CV5( params ):\n",
    "    \n",
    "    losses = -1 * cross_val_score( xgb.XGBClassifier(n_jobs=multiprocessing.cpu_count()-2 , **params) , \n",
    "                eye_features, labels, scoring = 'roc_auc_ovr' , cv = skf )\n",
    "        \n",
    "    return_dict = {'loss': np.mean(losses),\n",
    "                   'loss_variance' : np.var(losses),\n",
    "                   'status': STATUS_OK\n",
    "                   }\n",
    "    return return_dict\n"
   ]
  },
  {
   "cell_type": "code",
   "execution_count": null,
   "id": "d392b8a4",
   "metadata": {},
   "outputs": [],
   "source": [
    "params = dict( n_estimators=100,\n",
    "               eta = 0.3,\n",
    "               subsample = 0.8,\n",
    "               max_depth = 5)\n",
    "hyperopt_xgb_train_CV5( params )"
   ]
  },
  {
   "cell_type": "code",
   "execution_count": null,
   "id": "19e8674d",
   "metadata": {},
   "outputs": [],
   "source": [
    "%%time\n",
    "trials = Trials()\n",
    "\n",
    "best = fmin(hyperopt_xgb_train_CV5, \n",
    "            space4xgb, \n",
    "            algo=tpe.suggest, \n",
    "            max_evals=10, \n",
    "            trials=trials)"
   ]
  },
  {
   "cell_type": "markdown",
   "id": "cd58c72b",
   "metadata": {},
   "source": [
    "# warm start : continue searching for better solutions"
   ]
  },
  {
   "cell_type": "code",
   "execution_count": null,
   "id": "5ee5bfc7",
   "metadata": {},
   "outputs": [],
   "source": [
    "best = fmin(hyperopt_xgb_train_CV5, \n",
    "            space4xgb, \n",
    "            algo=tpe.suggest, \n",
    "            max_evals=12, \n",
    "            trials=trials)"
   ]
  },
  {
   "cell_type": "markdown",
   "id": "2071720f",
   "metadata": {},
   "source": [
    "# nested search space\n",
    "\n",
    "It is possible nest elements in `hp.choice()` or `hp.pchoice()` to specify more complex search spaces:"
   ]
  },
  {
   "cell_type": "code",
   "execution_count": null,
   "id": "786be4b4",
   "metadata": {},
   "outputs": [],
   "source": [
    "space4nested = hp.pchoice('classifier_type',\n",
    "                          [(0.6, {'classifier_type': 'xgboost',\n",
    "                                    'n_estimators': pyll.scope.int(hp.quniform('n_estimators', 1 , 1000,1)),\n",
    "                                    'eta': hp.loguniform('eta' , np.log(10**-4) , np.log(10**2) ),\n",
    "                                    'max_depth': pyll.scope.int(hp.quniform('max_depth', 1, 16, 1)),\n",
    "                                    'subsample': hp.uniform('subsample', 0.3, 1)\n",
    "                                  }\n",
    "                            ),\n",
    "                           (0.4, {'classifier_type': 'logistic regression',\n",
    "                                  'C': hp.loguniform(\"C\", low=np.log(1e-5), high=np.log(1e2)),\n",
    "                                  'penalty': hp.choice('penalty', ['l1','l2'])\n",
    "                                  }\n",
    "                            )]\n",
    "                          )"
   ]
  },
  {
   "cell_type": "code",
   "execution_count": null,
   "id": "9814b38a",
   "metadata": {},
   "outputs": [],
   "source": [
    "from sklearn.linear_model import LogisticRegression\n",
    "from sklearn.preprocessing import StandardScaler\n",
    "from sklearn.pipeline import Pipeline\n",
    "\n",
    "\n",
    "def hyperopt_complex_train_CV5( params ):\n",
    "    \n",
    "    classif_type = params.pop('classifier_type')\n",
    "    \n",
    "    model = None\n",
    "    if classif_type == 'xgboost':\n",
    "        model = xgb.XGBClassifier(n_jobs=multiprocessing.cpu_count()-2 , **params) \n",
    "    \n",
    "    else:\n",
    "        model =Pipeline([('scalar',StandardScaler()), \n",
    "                      ('model',LogisticRegression(solver ='liblinear', class_weight='balanced', **params))])\n",
    "    \n",
    "    losses = -1 * cross_val_score( model  , \n",
    "                    eye_features, labels, scoring = 'roc_auc_ovr' , cv = skf )\n",
    "        \n",
    "    return_dict = {'loss': np.mean(losses),\n",
    "                   'loss_variance' : np.var(losses),\n",
    "                   'status': STATUS_OK\n",
    "                   }\n",
    "    return return_dict\n"
   ]
  },
  {
   "cell_type": "code",
   "execution_count": null,
   "id": "1aa550dd",
   "metadata": {},
   "outputs": [],
   "source": [
    "%%time\n",
    "trials = Trials()\n",
    "best = fmin(hyperopt_complex_train_CV5, \n",
    "            space4nested, \n",
    "            algo=tpe.suggest, \n",
    "            max_evals=15, \n",
    "            trials=trials)"
   ]
  },
  {
   "cell_type": "code",
   "execution_count": null,
   "id": "d3b0db75",
   "metadata": {},
   "outputs": [],
   "source": [
    "trials.trials"
   ]
  },
  {
   "cell_type": "code",
   "execution_count": null,
   "id": "f8d75f63",
   "metadata": {},
   "outputs": [],
   "source": [
    "ax = sns.scatterplot( x =  range(len(trials.losses())) ,  y =  trials.losses() , \n",
    "                     hue = np.array(['xgboost','logistic regression'])[trials.vals['classifier_type']] )\n",
    "ax.set_xlabel('trials')\n",
    "ax.set_ylabel('loss')"
   ]
  },
  {
   "cell_type": "code",
   "execution_count": null,
   "id": "f950400c",
   "metadata": {},
   "outputs": [],
   "source": []
  },
  {
   "cell_type": "code",
   "execution_count": null,
   "id": "04027f2c",
   "metadata": {},
   "outputs": [],
   "source": [
    "\n",
    "\n"
   ]
  }
 ],
 "metadata": {
  "kernelspec": {
   "display_name": "Environment (conda_intermediateml_2024)",
   "language": "python",
   "name": "conda_intermediateml_2024"
  },
  "language_info": {
   "codemirror_mode": {
    "name": "ipython",
    "version": 3
   },
   "file_extension": ".py",
   "mimetype": "text/x-python",
   "name": "python",
   "nbconvert_exporter": "python",
   "pygments_lexer": "ipython3",
   "version": "3.11.9"
  }
 },
 "nbformat": 4,
 "nbformat_minor": 5
}
