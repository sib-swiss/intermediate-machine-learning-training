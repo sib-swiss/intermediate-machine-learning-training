{
 "cells": [
  {
   "cell_type": "markdown",
   "id": "600f3e94",
   "metadata": {},
   "source": [
    "# Hyperopt\n",
    "\n"
   ]
  },
  {
   "cell_type": "code",
   "execution_count": 5,
   "id": "8f549e6a",
   "metadata": {},
   "outputs": [],
   "source": [
    "import pandas as pd\n",
    "import numpy as np\n",
    "import seaborn as sns\n",
    "import matplotlib.pyplot as plt\n",
    "import multiprocessing\n",
    "from sklearn.metrics import roc_auc_score"
   ]
  },
  {
   "cell_type": "code",
   "execution_count": 57,
   "id": "27b89ffe",
   "metadata": {},
   "outputs": [
    {
     "data": {
      "text/html": [
       "<div>\n",
       "<style scoped>\n",
       "    .dataframe tbody tr th:only-of-type {\n",
       "        vertical-align: middle;\n",
       "    }\n",
       "\n",
       "    .dataframe tbody tr th {\n",
       "        vertical-align: top;\n",
       "    }\n",
       "\n",
       "    .dataframe thead th {\n",
       "        text-align: right;\n",
       "    }\n",
       "</style>\n",
       "<table border=\"1\" class=\"dataframe\">\n",
       "  <thead>\n",
       "    <tr style=\"text-align: right;\">\n",
       "      <th></th>\n",
       "      <th>titleNo</th>\n",
       "      <th>assgNo</th>\n",
       "      <th>fixcount</th>\n",
       "      <th>firstPassCnt</th>\n",
       "      <th>P1stFixation</th>\n",
       "      <th>P2stFixation</th>\n",
       "      <th>prevFixDur</th>\n",
       "      <th>firstfixDur</th>\n",
       "      <th>firstPassFixDur</th>\n",
       "      <th>nextFixDur</th>\n",
       "      <th>...</th>\n",
       "      <th>totalFixDur</th>\n",
       "      <th>meanFixDur</th>\n",
       "      <th>nRegressFrom</th>\n",
       "      <th>regressLen</th>\n",
       "      <th>nextWordRegress</th>\n",
       "      <th>regressDur</th>\n",
       "      <th>pupilDiamMax</th>\n",
       "      <th>pupilDiamLag</th>\n",
       "      <th>timePrtctg</th>\n",
       "      <th>target</th>\n",
       "    </tr>\n",
       "  </thead>\n",
       "  <tbody>\n",
       "    <tr>\n",
       "      <th>0</th>\n",
       "      <td>1</td>\n",
       "      <td>1</td>\n",
       "      <td>1.0</td>\n",
       "      <td>1.0</td>\n",
       "      <td>1.0</td>\n",
       "      <td>0.0</td>\n",
       "      <td>166.80</td>\n",
       "      <td>194.800000</td>\n",
       "      <td>194.800000</td>\n",
       "      <td>190.80</td>\n",
       "      <td>...</td>\n",
       "      <td>194.800000</td>\n",
       "      <td>194.800000</td>\n",
       "      <td>0.0</td>\n",
       "      <td>0.0</td>\n",
       "      <td>0.000000</td>\n",
       "      <td>0.0</td>\n",
       "      <td>0.053500</td>\n",
       "      <td>0.185700</td>\n",
       "      <td>0.025460</td>\n",
       "      <td>0</td>\n",
       "    </tr>\n",
       "    <tr>\n",
       "      <th>1</th>\n",
       "      <td>1</td>\n",
       "      <td>10</td>\n",
       "      <td>1.0</td>\n",
       "      <td>1.0</td>\n",
       "      <td>1.0</td>\n",
       "      <td>0.0</td>\n",
       "      <td>159.25</td>\n",
       "      <td>209.000000</td>\n",
       "      <td>209.000000</td>\n",
       "      <td>228.75</td>\n",
       "      <td>...</td>\n",
       "      <td>209.000000</td>\n",
       "      <td>209.000000</td>\n",
       "      <td>0.0</td>\n",
       "      <td>0.0</td>\n",
       "      <td>0.000000</td>\n",
       "      <td>0.0</td>\n",
       "      <td>-0.010225</td>\n",
       "      <td>0.049650</td>\n",
       "      <td>0.035775</td>\n",
       "      <td>0</td>\n",
       "    </tr>\n",
       "    <tr>\n",
       "      <th>2</th>\n",
       "      <td>1</td>\n",
       "      <td>100</td>\n",
       "      <td>1.0</td>\n",
       "      <td>1.0</td>\n",
       "      <td>1.0</td>\n",
       "      <td>0.0</td>\n",
       "      <td>139.00</td>\n",
       "      <td>165.666667</td>\n",
       "      <td>165.666667</td>\n",
       "      <td>192.00</td>\n",
       "      <td>...</td>\n",
       "      <td>165.666667</td>\n",
       "      <td>165.666667</td>\n",
       "      <td>0.0</td>\n",
       "      <td>0.0</td>\n",
       "      <td>0.333333</td>\n",
       "      <td>0.0</td>\n",
       "      <td>0.098000</td>\n",
       "      <td>0.178500</td>\n",
       "      <td>0.022467</td>\n",
       "      <td>0</td>\n",
       "    </tr>\n",
       "    <tr>\n",
       "      <th>3</th>\n",
       "      <td>1</td>\n",
       "      <td>101</td>\n",
       "      <td>2.0</td>\n",
       "      <td>2.0</td>\n",
       "      <td>1.0</td>\n",
       "      <td>0.0</td>\n",
       "      <td>109.50</td>\n",
       "      <td>139.000000</td>\n",
       "      <td>219.000000</td>\n",
       "      <td>109.50</td>\n",
       "      <td>...</td>\n",
       "      <td>219.000000</td>\n",
       "      <td>119.333350</td>\n",
       "      <td>0.0</td>\n",
       "      <td>0.0</td>\n",
       "      <td>0.000000</td>\n",
       "      <td>0.0</td>\n",
       "      <td>0.203750</td>\n",
       "      <td>0.554500</td>\n",
       "      <td>0.056500</td>\n",
       "      <td>0</td>\n",
       "    </tr>\n",
       "    <tr>\n",
       "      <th>4</th>\n",
       "      <td>1</td>\n",
       "      <td>102</td>\n",
       "      <td>1.0</td>\n",
       "      <td>1.0</td>\n",
       "      <td>1.0</td>\n",
       "      <td>0.0</td>\n",
       "      <td>109.00</td>\n",
       "      <td>114.000000</td>\n",
       "      <td>114.000000</td>\n",
       "      <td>119.00</td>\n",
       "      <td>...</td>\n",
       "      <td>114.000000</td>\n",
       "      <td>114.000000</td>\n",
       "      <td>0.0</td>\n",
       "      <td>0.0</td>\n",
       "      <td>0.000000</td>\n",
       "      <td>0.0</td>\n",
       "      <td>0.132250</td>\n",
       "      <td>0.266125</td>\n",
       "      <td>0.020350</td>\n",
       "      <td>0</td>\n",
       "    </tr>\n",
       "  </tbody>\n",
       "</table>\n",
       "<p>5 rows × 25 columns</p>\n",
       "</div>"
      ],
      "text/plain": [
       "   titleNo  assgNo  fixcount  firstPassCnt  P1stFixation  P2stFixation  \\\n",
       "0        1       1       1.0           1.0           1.0           0.0   \n",
       "1        1      10       1.0           1.0           1.0           0.0   \n",
       "2        1     100       1.0           1.0           1.0           0.0   \n",
       "3        1     101       2.0           2.0           1.0           0.0   \n",
       "4        1     102       1.0           1.0           1.0           0.0   \n",
       "\n",
       "   prevFixDur  firstfixDur  firstPassFixDur  nextFixDur  ...  totalFixDur  \\\n",
       "0      166.80   194.800000       194.800000      190.80  ...   194.800000   \n",
       "1      159.25   209.000000       209.000000      228.75  ...   209.000000   \n",
       "2      139.00   165.666667       165.666667      192.00  ...   165.666667   \n",
       "3      109.50   139.000000       219.000000      109.50  ...   219.000000   \n",
       "4      109.00   114.000000       114.000000      119.00  ...   114.000000   \n",
       "\n",
       "   meanFixDur  nRegressFrom  regressLen  nextWordRegress  regressDur  \\\n",
       "0  194.800000           0.0         0.0         0.000000         0.0   \n",
       "1  209.000000           0.0         0.0         0.000000         0.0   \n",
       "2  165.666667           0.0         0.0         0.333333         0.0   \n",
       "3  119.333350           0.0         0.0         0.000000         0.0   \n",
       "4  114.000000           0.0         0.0         0.000000         0.0   \n",
       "\n",
       "   pupilDiamMax  pupilDiamLag  timePrtctg  target  \n",
       "0      0.053500      0.185700    0.025460       0  \n",
       "1     -0.010225      0.049650    0.035775       0  \n",
       "2      0.098000      0.178500    0.022467       0  \n",
       "3      0.203750      0.554500    0.056500       0  \n",
       "4      0.132250      0.266125    0.020350       0  \n",
       "\n",
       "[5 rows x 25 columns]"
      ]
     },
     "execution_count": 57,
     "metadata": {},
     "output_type": "execute_result"
    }
   ],
   "source": [
    "## we start again by reading our data\n",
    "\n",
    "eye_movements = pd.read_csv(\"../data/eye_movements_aggregated.csv\")\n",
    "eye_movements.head()"
   ]
  },
  {
   "cell_type": "code",
   "execution_count": 58,
   "id": "3376eb10",
   "metadata": {},
   "outputs": [
    {
     "data": {
      "text/plain": [
       "(2664, 25)"
      ]
     },
     "execution_count": 58,
     "metadata": {},
     "output_type": "execute_result"
    }
   ],
   "source": [
    "eye_movements.shape"
   ]
  },
  {
   "cell_type": "code",
   "execution_count": 59,
   "id": "66f4514a",
   "metadata": {},
   "outputs": [],
   "source": [
    "eye_features = eye_movements.loc[:,['fixcount', 'firstPassCnt', 'P1stFixation', 'P2stFixation',\n",
    "       'prevFixDur', 'firstfixDur', 'firstPassFixDur', 'nextFixDur',\n",
    "       'firstSaccLen', 'lastSaccLen', 'prevFixPos', 'landingPos', 'leavingPos',\n",
    "       'totalFixDur', 'meanFixDur', 'nRegressFrom', 'regressLen',\n",
    "       'nextWordRegress', 'regressDur', 'pupilDiamMax', 'pupilDiamLag',\n",
    "       'timePrtctg']]\n",
    "labels = eye_movements['target'].astype(int)"
   ]
  },
  {
   "cell_type": "code",
   "execution_count": null,
   "id": "3e5c908a",
   "metadata": {},
   "outputs": [],
   "source": []
  },
  {
   "cell_type": "code",
   "execution_count": 60,
   "id": "c5842fe8",
   "metadata": {},
   "outputs": [],
   "source": [
    "##let's start by splitting the data into a train and a validation set\n",
    "from sklearn.model_selection import train_test_split\n",
    "\n",
    "X_train, X_valid, y_train, y_valid = train_test_split(eye_features, labels, test_size=0.2, random_state=123)\n"
   ]
  },
  {
   "cell_type": "markdown",
   "id": "6397ee67",
   "metadata": {},
   "source": [
    "we train a model to gain an idea of baseline performance "
   ]
  },
  {
   "cell_type": "code",
   "execution_count": 61,
   "id": "e699cdf1",
   "metadata": {},
   "outputs": [
    {
     "name": "stdout",
     "output_type": "stream",
     "text": [
      "CPU times: user 3.18 s, sys: 3.96 ms, total: 3.18 s\n",
      "Wall time: 553 ms\n"
     ]
    },
    {
     "data": {
      "text/html": [
       "<style>#sk-container-id-1 {\n",
       "  /* Definition of color scheme common for light and dark mode */\n",
       "  --sklearn-color-text: black;\n",
       "  --sklearn-color-line: gray;\n",
       "  /* Definition of color scheme for unfitted estimators */\n",
       "  --sklearn-color-unfitted-level-0: #fff5e6;\n",
       "  --sklearn-color-unfitted-level-1: #f6e4d2;\n",
       "  --sklearn-color-unfitted-level-2: #ffe0b3;\n",
       "  --sklearn-color-unfitted-level-3: chocolate;\n",
       "  /* Definition of color scheme for fitted estimators */\n",
       "  --sklearn-color-fitted-level-0: #f0f8ff;\n",
       "  --sklearn-color-fitted-level-1: #d4ebff;\n",
       "  --sklearn-color-fitted-level-2: #b3dbfd;\n",
       "  --sklearn-color-fitted-level-3: cornflowerblue;\n",
       "\n",
       "  /* Specific color for light theme */\n",
       "  --sklearn-color-text-on-default-background: var(--sg-text-color, var(--theme-code-foreground, var(--jp-content-font-color1, black)));\n",
       "  --sklearn-color-background: var(--sg-background-color, var(--theme-background, var(--jp-layout-color0, white)));\n",
       "  --sklearn-color-border-box: var(--sg-text-color, var(--theme-code-foreground, var(--jp-content-font-color1, black)));\n",
       "  --sklearn-color-icon: #696969;\n",
       "\n",
       "  @media (prefers-color-scheme: dark) {\n",
       "    /* Redefinition of color scheme for dark theme */\n",
       "    --sklearn-color-text-on-default-background: var(--sg-text-color, var(--theme-code-foreground, var(--jp-content-font-color1, white)));\n",
       "    --sklearn-color-background: var(--sg-background-color, var(--theme-background, var(--jp-layout-color0, #111)));\n",
       "    --sklearn-color-border-box: var(--sg-text-color, var(--theme-code-foreground, var(--jp-content-font-color1, white)));\n",
       "    --sklearn-color-icon: #878787;\n",
       "  }\n",
       "}\n",
       "\n",
       "#sk-container-id-1 {\n",
       "  color: var(--sklearn-color-text);\n",
       "}\n",
       "\n",
       "#sk-container-id-1 pre {\n",
       "  padding: 0;\n",
       "}\n",
       "\n",
       "#sk-container-id-1 input.sk-hidden--visually {\n",
       "  border: 0;\n",
       "  clip: rect(1px 1px 1px 1px);\n",
       "  clip: rect(1px, 1px, 1px, 1px);\n",
       "  height: 1px;\n",
       "  margin: -1px;\n",
       "  overflow: hidden;\n",
       "  padding: 0;\n",
       "  position: absolute;\n",
       "  width: 1px;\n",
       "}\n",
       "\n",
       "#sk-container-id-1 div.sk-dashed-wrapped {\n",
       "  border: 1px dashed var(--sklearn-color-line);\n",
       "  margin: 0 0.4em 0.5em 0.4em;\n",
       "  box-sizing: border-box;\n",
       "  padding-bottom: 0.4em;\n",
       "  background-color: var(--sklearn-color-background);\n",
       "}\n",
       "\n",
       "#sk-container-id-1 div.sk-container {\n",
       "  /* jupyter's `normalize.less` sets `[hidden] { display: none; }`\n",
       "     but bootstrap.min.css set `[hidden] { display: none !important; }`\n",
       "     so we also need the `!important` here to be able to override the\n",
       "     default hidden behavior on the sphinx rendered scikit-learn.org.\n",
       "     See: https://github.com/scikit-learn/scikit-learn/issues/21755 */\n",
       "  display: inline-block !important;\n",
       "  position: relative;\n",
       "}\n",
       "\n",
       "#sk-container-id-1 div.sk-text-repr-fallback {\n",
       "  display: none;\n",
       "}\n",
       "\n",
       "div.sk-parallel-item,\n",
       "div.sk-serial,\n",
       "div.sk-item {\n",
       "  /* draw centered vertical line to link estimators */\n",
       "  background-image: linear-gradient(var(--sklearn-color-text-on-default-background), var(--sklearn-color-text-on-default-background));\n",
       "  background-size: 2px 100%;\n",
       "  background-repeat: no-repeat;\n",
       "  background-position: center center;\n",
       "}\n",
       "\n",
       "/* Parallel-specific style estimator block */\n",
       "\n",
       "#sk-container-id-1 div.sk-parallel-item::after {\n",
       "  content: \"\";\n",
       "  width: 100%;\n",
       "  border-bottom: 2px solid var(--sklearn-color-text-on-default-background);\n",
       "  flex-grow: 1;\n",
       "}\n",
       "\n",
       "#sk-container-id-1 div.sk-parallel {\n",
       "  display: flex;\n",
       "  align-items: stretch;\n",
       "  justify-content: center;\n",
       "  background-color: var(--sklearn-color-background);\n",
       "  position: relative;\n",
       "}\n",
       "\n",
       "#sk-container-id-1 div.sk-parallel-item {\n",
       "  display: flex;\n",
       "  flex-direction: column;\n",
       "}\n",
       "\n",
       "#sk-container-id-1 div.sk-parallel-item:first-child::after {\n",
       "  align-self: flex-end;\n",
       "  width: 50%;\n",
       "}\n",
       "\n",
       "#sk-container-id-1 div.sk-parallel-item:last-child::after {\n",
       "  align-self: flex-start;\n",
       "  width: 50%;\n",
       "}\n",
       "\n",
       "#sk-container-id-1 div.sk-parallel-item:only-child::after {\n",
       "  width: 0;\n",
       "}\n",
       "\n",
       "/* Serial-specific style estimator block */\n",
       "\n",
       "#sk-container-id-1 div.sk-serial {\n",
       "  display: flex;\n",
       "  flex-direction: column;\n",
       "  align-items: center;\n",
       "  background-color: var(--sklearn-color-background);\n",
       "  padding-right: 1em;\n",
       "  padding-left: 1em;\n",
       "}\n",
       "\n",
       "\n",
       "/* Toggleable style: style used for estimator/Pipeline/ColumnTransformer box that is\n",
       "clickable and can be expanded/collapsed.\n",
       "- Pipeline and ColumnTransformer use this feature and define the default style\n",
       "- Estimators will overwrite some part of the style using the `sk-estimator` class\n",
       "*/\n",
       "\n",
       "/* Pipeline and ColumnTransformer style (default) */\n",
       "\n",
       "#sk-container-id-1 div.sk-toggleable {\n",
       "  /* Default theme specific background. It is overwritten whether we have a\n",
       "  specific estimator or a Pipeline/ColumnTransformer */\n",
       "  background-color: var(--sklearn-color-background);\n",
       "}\n",
       "\n",
       "/* Toggleable label */\n",
       "#sk-container-id-1 label.sk-toggleable__label {\n",
       "  cursor: pointer;\n",
       "  display: block;\n",
       "  width: 100%;\n",
       "  margin-bottom: 0;\n",
       "  padding: 0.5em;\n",
       "  box-sizing: border-box;\n",
       "  text-align: center;\n",
       "}\n",
       "\n",
       "#sk-container-id-1 label.sk-toggleable__label-arrow:before {\n",
       "  /* Arrow on the left of the label */\n",
       "  content: \"▸\";\n",
       "  float: left;\n",
       "  margin-right: 0.25em;\n",
       "  color: var(--sklearn-color-icon);\n",
       "}\n",
       "\n",
       "#sk-container-id-1 label.sk-toggleable__label-arrow:hover:before {\n",
       "  color: var(--sklearn-color-text);\n",
       "}\n",
       "\n",
       "/* Toggleable content - dropdown */\n",
       "\n",
       "#sk-container-id-1 div.sk-toggleable__content {\n",
       "  max-height: 0;\n",
       "  max-width: 0;\n",
       "  overflow: hidden;\n",
       "  text-align: left;\n",
       "  /* unfitted */\n",
       "  background-color: var(--sklearn-color-unfitted-level-0);\n",
       "}\n",
       "\n",
       "#sk-container-id-1 div.sk-toggleable__content.fitted {\n",
       "  /* fitted */\n",
       "  background-color: var(--sklearn-color-fitted-level-0);\n",
       "}\n",
       "\n",
       "#sk-container-id-1 div.sk-toggleable__content pre {\n",
       "  margin: 0.2em;\n",
       "  border-radius: 0.25em;\n",
       "  color: var(--sklearn-color-text);\n",
       "  /* unfitted */\n",
       "  background-color: var(--sklearn-color-unfitted-level-0);\n",
       "}\n",
       "\n",
       "#sk-container-id-1 div.sk-toggleable__content.fitted pre {\n",
       "  /* unfitted */\n",
       "  background-color: var(--sklearn-color-fitted-level-0);\n",
       "}\n",
       "\n",
       "#sk-container-id-1 input.sk-toggleable__control:checked~div.sk-toggleable__content {\n",
       "  /* Expand drop-down */\n",
       "  max-height: 200px;\n",
       "  max-width: 100%;\n",
       "  overflow: auto;\n",
       "}\n",
       "\n",
       "#sk-container-id-1 input.sk-toggleable__control:checked~label.sk-toggleable__label-arrow:before {\n",
       "  content: \"▾\";\n",
       "}\n",
       "\n",
       "/* Pipeline/ColumnTransformer-specific style */\n",
       "\n",
       "#sk-container-id-1 div.sk-label input.sk-toggleable__control:checked~label.sk-toggleable__label {\n",
       "  color: var(--sklearn-color-text);\n",
       "  background-color: var(--sklearn-color-unfitted-level-2);\n",
       "}\n",
       "\n",
       "#sk-container-id-1 div.sk-label.fitted input.sk-toggleable__control:checked~label.sk-toggleable__label {\n",
       "  background-color: var(--sklearn-color-fitted-level-2);\n",
       "}\n",
       "\n",
       "/* Estimator-specific style */\n",
       "\n",
       "/* Colorize estimator box */\n",
       "#sk-container-id-1 div.sk-estimator input.sk-toggleable__control:checked~label.sk-toggleable__label {\n",
       "  /* unfitted */\n",
       "  background-color: var(--sklearn-color-unfitted-level-2);\n",
       "}\n",
       "\n",
       "#sk-container-id-1 div.sk-estimator.fitted input.sk-toggleable__control:checked~label.sk-toggleable__label {\n",
       "  /* fitted */\n",
       "  background-color: var(--sklearn-color-fitted-level-2);\n",
       "}\n",
       "\n",
       "#sk-container-id-1 div.sk-label label.sk-toggleable__label,\n",
       "#sk-container-id-1 div.sk-label label {\n",
       "  /* The background is the default theme color */\n",
       "  color: var(--sklearn-color-text-on-default-background);\n",
       "}\n",
       "\n",
       "/* On hover, darken the color of the background */\n",
       "#sk-container-id-1 div.sk-label:hover label.sk-toggleable__label {\n",
       "  color: var(--sklearn-color-text);\n",
       "  background-color: var(--sklearn-color-unfitted-level-2);\n",
       "}\n",
       "\n",
       "/* Label box, darken color on hover, fitted */\n",
       "#sk-container-id-1 div.sk-label.fitted:hover label.sk-toggleable__label.fitted {\n",
       "  color: var(--sklearn-color-text);\n",
       "  background-color: var(--sklearn-color-fitted-level-2);\n",
       "}\n",
       "\n",
       "/* Estimator label */\n",
       "\n",
       "#sk-container-id-1 div.sk-label label {\n",
       "  font-family: monospace;\n",
       "  font-weight: bold;\n",
       "  display: inline-block;\n",
       "  line-height: 1.2em;\n",
       "}\n",
       "\n",
       "#sk-container-id-1 div.sk-label-container {\n",
       "  text-align: center;\n",
       "}\n",
       "\n",
       "/* Estimator-specific */\n",
       "#sk-container-id-1 div.sk-estimator {\n",
       "  font-family: monospace;\n",
       "  border: 1px dotted var(--sklearn-color-border-box);\n",
       "  border-radius: 0.25em;\n",
       "  box-sizing: border-box;\n",
       "  margin-bottom: 0.5em;\n",
       "  /* unfitted */\n",
       "  background-color: var(--sklearn-color-unfitted-level-0);\n",
       "}\n",
       "\n",
       "#sk-container-id-1 div.sk-estimator.fitted {\n",
       "  /* fitted */\n",
       "  background-color: var(--sklearn-color-fitted-level-0);\n",
       "}\n",
       "\n",
       "/* on hover */\n",
       "#sk-container-id-1 div.sk-estimator:hover {\n",
       "  /* unfitted */\n",
       "  background-color: var(--sklearn-color-unfitted-level-2);\n",
       "}\n",
       "\n",
       "#sk-container-id-1 div.sk-estimator.fitted:hover {\n",
       "  /* fitted */\n",
       "  background-color: var(--sklearn-color-fitted-level-2);\n",
       "}\n",
       "\n",
       "/* Specification for estimator info (e.g. \"i\" and \"?\") */\n",
       "\n",
       "/* Common style for \"i\" and \"?\" */\n",
       "\n",
       ".sk-estimator-doc-link,\n",
       "a:link.sk-estimator-doc-link,\n",
       "a:visited.sk-estimator-doc-link {\n",
       "  float: right;\n",
       "  font-size: smaller;\n",
       "  line-height: 1em;\n",
       "  font-family: monospace;\n",
       "  background-color: var(--sklearn-color-background);\n",
       "  border-radius: 1em;\n",
       "  height: 1em;\n",
       "  width: 1em;\n",
       "  text-decoration: none !important;\n",
       "  margin-left: 1ex;\n",
       "  /* unfitted */\n",
       "  border: var(--sklearn-color-unfitted-level-1) 1pt solid;\n",
       "  color: var(--sklearn-color-unfitted-level-1);\n",
       "}\n",
       "\n",
       ".sk-estimator-doc-link.fitted,\n",
       "a:link.sk-estimator-doc-link.fitted,\n",
       "a:visited.sk-estimator-doc-link.fitted {\n",
       "  /* fitted */\n",
       "  border: var(--sklearn-color-fitted-level-1) 1pt solid;\n",
       "  color: var(--sklearn-color-fitted-level-1);\n",
       "}\n",
       "\n",
       "/* On hover */\n",
       "div.sk-estimator:hover .sk-estimator-doc-link:hover,\n",
       ".sk-estimator-doc-link:hover,\n",
       "div.sk-label-container:hover .sk-estimator-doc-link:hover,\n",
       ".sk-estimator-doc-link:hover {\n",
       "  /* unfitted */\n",
       "  background-color: var(--sklearn-color-unfitted-level-3);\n",
       "  color: var(--sklearn-color-background);\n",
       "  text-decoration: none;\n",
       "}\n",
       "\n",
       "div.sk-estimator.fitted:hover .sk-estimator-doc-link.fitted:hover,\n",
       ".sk-estimator-doc-link.fitted:hover,\n",
       "div.sk-label-container:hover .sk-estimator-doc-link.fitted:hover,\n",
       ".sk-estimator-doc-link.fitted:hover {\n",
       "  /* fitted */\n",
       "  background-color: var(--sklearn-color-fitted-level-3);\n",
       "  color: var(--sklearn-color-background);\n",
       "  text-decoration: none;\n",
       "}\n",
       "\n",
       "/* Span, style for the box shown on hovering the info icon */\n",
       ".sk-estimator-doc-link span {\n",
       "  display: none;\n",
       "  z-index: 9999;\n",
       "  position: relative;\n",
       "  font-weight: normal;\n",
       "  right: .2ex;\n",
       "  padding: .5ex;\n",
       "  margin: .5ex;\n",
       "  width: min-content;\n",
       "  min-width: 20ex;\n",
       "  max-width: 50ex;\n",
       "  color: var(--sklearn-color-text);\n",
       "  box-shadow: 2pt 2pt 4pt #999;\n",
       "  /* unfitted */\n",
       "  background: var(--sklearn-color-unfitted-level-0);\n",
       "  border: .5pt solid var(--sklearn-color-unfitted-level-3);\n",
       "}\n",
       "\n",
       ".sk-estimator-doc-link.fitted span {\n",
       "  /* fitted */\n",
       "  background: var(--sklearn-color-fitted-level-0);\n",
       "  border: var(--sklearn-color-fitted-level-3);\n",
       "}\n",
       "\n",
       ".sk-estimator-doc-link:hover span {\n",
       "  display: block;\n",
       "}\n",
       "\n",
       "/* \"?\"-specific style due to the `<a>` HTML tag */\n",
       "\n",
       "#sk-container-id-1 a.estimator_doc_link {\n",
       "  float: right;\n",
       "  font-size: 1rem;\n",
       "  line-height: 1em;\n",
       "  font-family: monospace;\n",
       "  background-color: var(--sklearn-color-background);\n",
       "  border-radius: 1rem;\n",
       "  height: 1rem;\n",
       "  width: 1rem;\n",
       "  text-decoration: none;\n",
       "  /* unfitted */\n",
       "  color: var(--sklearn-color-unfitted-level-1);\n",
       "  border: var(--sklearn-color-unfitted-level-1) 1pt solid;\n",
       "}\n",
       "\n",
       "#sk-container-id-1 a.estimator_doc_link.fitted {\n",
       "  /* fitted */\n",
       "  border: var(--sklearn-color-fitted-level-1) 1pt solid;\n",
       "  color: var(--sklearn-color-fitted-level-1);\n",
       "}\n",
       "\n",
       "/* On hover */\n",
       "#sk-container-id-1 a.estimator_doc_link:hover {\n",
       "  /* unfitted */\n",
       "  background-color: var(--sklearn-color-unfitted-level-3);\n",
       "  color: var(--sklearn-color-background);\n",
       "  text-decoration: none;\n",
       "}\n",
       "\n",
       "#sk-container-id-1 a.estimator_doc_link.fitted:hover {\n",
       "  /* fitted */\n",
       "  background-color: var(--sklearn-color-fitted-level-3);\n",
       "}\n",
       "</style><div id=\"sk-container-id-1\" class=\"sk-top-container\"><div class=\"sk-text-repr-fallback\"><pre>XGBClassifier(base_score=None, booster=None, callbacks=None,\n",
       "              colsample_bylevel=None, colsample_bynode=None,\n",
       "              colsample_bytree=None, device=None, early_stopping_rounds=None,\n",
       "              enable_categorical=False, eval_metric=None, feature_types=None,\n",
       "              gamma=None, grow_policy=None, importance_type=None,\n",
       "              interaction_constraints=None, learning_rate=None, max_bin=None,\n",
       "              max_cat_threshold=None, max_cat_to_onehot=None,\n",
       "              max_delta_step=None, max_depth=None, max_leaves=None,\n",
       "              min_child_weight=None, missing=nan, monotone_constraints=None,\n",
       "              multi_strategy=None, n_estimators=None, n_jobs=6,\n",
       "              num_parallel_tree=None, objective=&#x27;multi:softprob&#x27;, ...)</pre><b>In a Jupyter environment, please rerun this cell to show the HTML representation or trust the notebook. <br />On GitHub, the HTML representation is unable to render, please try loading this page with nbviewer.org.</b></div><div class=\"sk-container\" hidden><div class=\"sk-item\"><div class=\"sk-estimator fitted sk-toggleable\"><input class=\"sk-toggleable__control sk-hidden--visually\" id=\"sk-estimator-id-1\" type=\"checkbox\" checked><label for=\"sk-estimator-id-1\" class=\"sk-toggleable__label fitted sk-toggleable__label-arrow fitted\">&nbsp;XGBClassifier<span class=\"sk-estimator-doc-link fitted\">i<span>Fitted</span></span></label><div class=\"sk-toggleable__content fitted\"><pre>XGBClassifier(base_score=None, booster=None, callbacks=None,\n",
       "              colsample_bylevel=None, colsample_bynode=None,\n",
       "              colsample_bytree=None, device=None, early_stopping_rounds=None,\n",
       "              enable_categorical=False, eval_metric=None, feature_types=None,\n",
       "              gamma=None, grow_policy=None, importance_type=None,\n",
       "              interaction_constraints=None, learning_rate=None, max_bin=None,\n",
       "              max_cat_threshold=None, max_cat_to_onehot=None,\n",
       "              max_delta_step=None, max_depth=None, max_leaves=None,\n",
       "              min_child_weight=None, missing=nan, monotone_constraints=None,\n",
       "              multi_strategy=None, n_estimators=None, n_jobs=6,\n",
       "              num_parallel_tree=None, objective=&#x27;multi:softprob&#x27;, ...)</pre></div> </div></div></div></div>"
      ],
      "text/plain": [
       "XGBClassifier(base_score=None, booster=None, callbacks=None,\n",
       "              colsample_bylevel=None, colsample_bynode=None,\n",
       "              colsample_bytree=None, device=None, early_stopping_rounds=None,\n",
       "              enable_categorical=False, eval_metric=None, feature_types=None,\n",
       "              gamma=None, grow_policy=None, importance_type=None,\n",
       "              interaction_constraints=None, learning_rate=None, max_bin=None,\n",
       "              max_cat_threshold=None, max_cat_to_onehot=None,\n",
       "              max_delta_step=None, max_depth=None, max_leaves=None,\n",
       "              min_child_weight=None, missing=nan, monotone_constraints=None,\n",
       "              multi_strategy=None, n_estimators=None, n_jobs=6,\n",
       "              num_parallel_tree=None, objective='multi:softprob', ...)"
      ]
     },
     "execution_count": 61,
     "metadata": {},
     "output_type": "execute_result"
    }
   ],
   "source": [
    "%%time \n",
    "import xgboost as xgb\n",
    "xgb_model = xgb.XGBClassifier(n_jobs=multiprocessing.cpu_count()-2)\n",
    "\n",
    "xgb_model.fit(X_train, y_train)"
   ]
  },
  {
   "cell_type": "code",
   "execution_count": 62,
   "id": "c11d45db",
   "metadata": {},
   "outputs": [
    {
     "name": "stdout",
     "output_type": "stream",
     "text": [
      "train st performance: 1.0\n",
      "valid set performance: 0.7498756501657234\n"
     ]
    }
   ],
   "source": [
    "print( 'train st performance:',roc_auc_score(y_train , xgb_model.predict_proba( X_train ) , multi_class='ovr' ) )\n",
    "print( 'valid set performance:',roc_auc_score(y_valid , xgb_model.predict_proba( X_valid ) , multi_class='ovr') )"
   ]
  },
  {
   "cell_type": "markdown",
   "id": "8432db03",
   "metadata": {},
   "source": [
    "# \"basic\" usage "
   ]
  },
  {
   "cell_type": "code",
   "execution_count": 63,
   "id": "ee7d5d5f",
   "metadata": {},
   "outputs": [],
   "source": [
    "from hyperopt import hp, fmin, tpe, rand, pyll, STATUS_OK, STATUS_FAIL, Trials, space_eval"
   ]
  },
  {
   "cell_type": "markdown",
   "id": "f5d369a8",
   "metadata": {},
   "source": [
    "## function to optimize\n",
    "\n",
    "We need to write a function which :\n",
    " * takes a dictionary of parameters as arguments\n",
    " * returns a dictionnary containing the computed loss and a status value\n",
    " \n",
    "Importantly, the loss is a value which we want to **minimize**, so in our case we will\n",
    "use -AUC(validation data)"
   ]
  },
  {
   "cell_type": "code",
   "execution_count": 64,
   "id": "ebe598f3",
   "metadata": {},
   "outputs": [],
   "source": [
    "\n",
    "def hyperopt_xgb_train( params ):\n",
    "    \n",
    "    xgb_model = xgb.XGBClassifier(n_jobs=multiprocessing.cpu_count()-2 , **params)\n",
    "    xgb_model.fit(X_train, y_train)\n",
    "    \n",
    "    loss = -roc_auc_score(y_valid , xgb_model.predict_proba( X_valid ) , multi_class='ovr' )\n",
    "    return_dict = {'loss': loss,\n",
    "                   'status': STATUS_OK\n",
    "                   }\n",
    "    return return_dict\n"
   ]
  },
  {
   "cell_type": "code",
   "execution_count": 65,
   "id": "280d142b",
   "metadata": {},
   "outputs": [
    {
     "data": {
      "text/plain": [
       "{'loss': -0.7537885939813355, 'status': 'ok'}"
      ]
     },
     "execution_count": 65,
     "metadata": {},
     "output_type": "execute_result"
    }
   ],
   "source": [
    "params = dict( n_estimators=100,\n",
    "               eta = 0.3,\n",
    "               subsample = 0.8,\n",
    "               max_depth = 5)\n",
    "hyperopt_xgb_train( params )"
   ]
  },
  {
   "cell_type": "markdown",
   "id": "a066f716",
   "metadata": {},
   "source": [
    "## parameter search-space\n",
    "\n",
    "The way it works is that for each hyper-parameter you define a **prior distribution** (it is bayesian afterall) using one of hyperopt function.\n",
    "\n",
    "For a more detailed documentation we refer you to the [hyperopt documentation](http://hyperopt.github.io/hyperopt/getting-started/search_spaces/)"
   ]
  },
  {
   "cell_type": "code",
   "execution_count": 67,
   "id": "9ff92381",
   "metadata": {},
   "outputs": [
    {
     "data": {
      "text/plain": [
       "<hyperopt.pyll.base.Apply at 0x7f7c3cb56c10>"
      ]
     },
     "execution_count": 67,
     "metadata": {},
     "output_type": "execute_result"
    }
   ],
   "source": [
    "simple_uniform = hp.uniform('simple', 0, 1)\n",
    "simple_uniform"
   ]
  },
  {
   "cell_type": "code",
   "execution_count": 68,
   "id": "b05a6ce9",
   "metadata": {},
   "outputs": [
    {
     "data": {
      "text/plain": [
       "0.8397901851015662"
      ]
     },
     "execution_count": 68,
     "metadata": {},
     "output_type": "execute_result"
    }
   ],
   "source": [
    "pyll.stochastic.sample(simple_uniform)"
   ]
  },
  {
   "cell_type": "code",
   "execution_count": 70,
   "id": "3f145cb7",
   "metadata": {},
   "outputs": [
    {
     "data": {
      "text/plain": [
       "0.0006056840781801796"
      ]
     },
     "execution_count": 70,
     "metadata": {},
     "output_type": "execute_result"
    }
   ],
   "source": [
    "eta = hp.loguniform('eta' , np.log(10**-4) , np.log(10**2) )\n",
    "pyll.stochastic.sample(eta)"
   ]
  },
  {
   "cell_type": "code",
   "execution_count": 71,
   "id": "ccbf04ee",
   "metadata": {},
   "outputs": [
    {
     "data": {
      "text/plain": [
       "<Axes: ylabel='Count'>"
      ]
     },
     "execution_count": 71,
     "metadata": {},
     "output_type": "execute_result"
    },
    {
     "data": {
      "image/png": "[encoded data removed]",
      "text/plain": [
       "<Figure size 640x480 with 1 Axes>"
      ]
     },
     "metadata": {},
     "output_type": "display_data"
    }
   ],
   "source": [
    "sns.histplot( [ np.log10( pyll.stochastic.sample(eta) ) for _ in range(10000) ] )"
   ]
  },
  {
   "cell_type": "markdown",
   "id": "f657a996",
   "metadata": {},
   "source": [
    "**exercise** : which prior distribution could we give `n_estimators`? to `max_depth` ? "
   ]
  },
  {
   "cell_type": "code",
   "execution_count": null,
   "id": "af91ab19",
   "metadata": {},
   "outputs": [],
   "source": []
  },
  {
   "cell_type": "code",
   "execution_count": 75,
   "id": "b9f43b02",
   "metadata": {},
   "outputs": [],
   "source": [
    "## proposed parameter space\n",
    "# %load solutions/solution_hyperopt_parameter_space.py"
   ]
  },
  {
   "cell_type": "markdown",
   "id": "61c74228",
   "metadata": {},
   "source": [
    "## minimizing"
   ]
  },
  {
   "cell_type": "code",
   "execution_count": 76,
   "id": "62afbbfc",
   "metadata": {},
   "outputs": [
    {
     "name": "stdout",
     "output_type": "stream",
     "text": [
      "100%|█████████████████████████████████████████████████████████████████████████████████████████████████████████████████| 10/10 [00:07<00:00,  1.29trial/s, best loss: -0.7634330042688159]\n",
      "CPU times: user 46 s, sys: 220 ms, total: 46.2 s\n",
      "Wall time: 7.74 s\n"
     ]
    }
   ],
   "source": [
    "%%time\n",
    "trials = Trials()\n",
    "\n",
    "best = fmin(hyperopt_xgb_train, \n",
    "            space4xgb, \n",
    "            algo=tpe.suggest, \n",
    "            max_evals=10, \n",
    "            trials=trials)"
   ]
  },
  {
   "cell_type": "code",
   "execution_count": 77,
   "id": "60fe6f01",
   "metadata": {},
   "outputs": [
    {
     "data": {
      "text/plain": [
       "{'eta': 0.019747464671523208,\n",
       " 'max_depth': 4.0,\n",
       " 'n_estimators': 683.0,\n",
       " 'subsample': 0.6816867727385938}"
      ]
     },
     "execution_count": 77,
     "metadata": {},
     "output_type": "execute_result"
    }
   ],
   "source": [
    "best"
   ]
  },
  {
   "cell_type": "code",
   "execution_count": 78,
   "id": "1922ef60",
   "metadata": {},
   "outputs": [
    {
     "data": {
      "text/plain": [
       "10"
      ]
     },
     "execution_count": 78,
     "metadata": {},
     "output_type": "execute_result"
    }
   ],
   "source": [
    "len( trials )"
   ]
  },
  {
   "cell_type": "code",
   "execution_count": 79,
   "id": "18a70f87",
   "metadata": {},
   "outputs": [
    {
     "data": {
      "text/plain": [
       "[{'state': 2,\n",
       "  'tid': 0,\n",
       "  'spec': None,\n",
       "  'result': {'loss': -0.7388087059435741, 'status': 'ok'},\n",
       "  'misc': {'tid': 0,\n",
       "   'cmd': ('domain_attachment', 'FMinIter_Domain'),\n",
       "   'workdir': None,\n",
       "   'idxs': {'eta': [0],\n",
       "    'max_depth': [0],\n",
       "    'n_estimators': [0],\n",
       "    'subsample': [0]},\n",
       "   'vals': {'eta': [1.2974324699909743],\n",
       "    'max_depth': [12.0],\n",
       "    'n_estimators': [261.0],\n",
       "    'subsample': [0.789030157569486]}},\n",
       "  'exp_key': None,\n",
       "  'owner': None,\n",
       "  'version': 0,\n",
       "  'book_time': datetime.datetime(2024, 10, 9, 13, 5, 9, 93000),\n",
       "  'refresh_time': datetime.datetime(2024, 10, 9, 13, 5, 9, 662000)},\n",
       " {'state': 2,\n",
       "  'tid': 1,\n",
       "  'spec': None,\n",
       "  'result': {'loss': -0.7291562298941692, 'status': 'ok'},\n",
       "  'misc': {'tid': 1,\n",
       "   'cmd': ('domain_attachment', 'FMinIter_Domain'),\n",
       "   'workdir': None,\n",
       "   'idxs': {'eta': [1],\n",
       "    'max_depth': [1],\n",
       "    'n_estimators': [1],\n",
       "    'subsample': [1]},\n",
       "   'vals': {'eta': [0.543617401495742],\n",
       "    'max_depth': [16.0],\n",
       "    'n_estimators': [230.0],\n",
       "    'subsample': [0.858408637742043]}},\n",
       "  'exp_key': None,\n",
       "  'owner': None,\n",
       "  'version': 0,\n",
       "  'book_time': datetime.datetime(2024, 10, 9, 13, 5, 9, 664000),\n",
       "  'refresh_time': datetime.datetime(2024, 10, 9, 13, 5, 10, 647000)},\n",
       " {'state': 2,\n",
       "  'tid': 2,\n",
       "  'spec': None,\n",
       "  'result': {'loss': -0.7253603316837104, 'status': 'ok'},\n",
       "  'misc': {'tid': 2,\n",
       "   'cmd': ('domain_attachment', 'FMinIter_Domain'),\n",
       "   'workdir': None,\n",
       "   'idxs': {'eta': [2],\n",
       "    'max_depth': [2],\n",
       "    'n_estimators': [2],\n",
       "    'subsample': [2]},\n",
       "   'vals': {'eta': [0.0009974898987830784],\n",
       "    'max_depth': [2.0],\n",
       "    'n_estimators': [764.0],\n",
       "    'subsample': [0.47486304280862246]}},\n",
       "  'exp_key': None,\n",
       "  'owner': None,\n",
       "  'version': 0,\n",
       "  'book_time': datetime.datetime(2024, 10, 9, 13, 5, 10, 651000),\n",
       "  'refresh_time': datetime.datetime(2024, 10, 9, 13, 5, 11, 266000)},\n",
       " {'state': 2,\n",
       "  'tid': 3,\n",
       "  'spec': None,\n",
       "  'result': {'loss': -0.5177099495500145, 'status': 'ok'},\n",
       "  'misc': {'tid': 3,\n",
       "   'cmd': ('domain_attachment', 'FMinIter_Domain'),\n",
       "   'workdir': None,\n",
       "   'idxs': {'eta': [3],\n",
       "    'max_depth': [3],\n",
       "    'n_estimators': [3],\n",
       "    'subsample': [3]},\n",
       "   'vals': {'eta': [2.6989823508547905],\n",
       "    'max_depth': [9.0],\n",
       "    'n_estimators': [53.0],\n",
       "    'subsample': [0.9954825857592089]}},\n",
       "  'exp_key': None,\n",
       "  'owner': None,\n",
       "  'version': 0,\n",
       "  'book_time': datetime.datetime(2024, 10, 9, 13, 5, 11, 268000),\n",
       "  'refresh_time': datetime.datetime(2024, 10, 9, 13, 5, 11, 464000)},\n",
       " {'state': 2,\n",
       "  'tid': 4,\n",
       "  'spec': None,\n",
       "  'result': {'loss': -0.5734500417344474, 'status': 'ok'},\n",
       "  'misc': {'tid': 4,\n",
       "   'cmd': ('domain_attachment', 'FMinIter_Domain'),\n",
       "   'workdir': None,\n",
       "   'idxs': {'eta': [4],\n",
       "    'max_depth': [4],\n",
       "    'n_estimators': [4],\n",
       "    'subsample': [4]},\n",
       "   'vals': {'eta': [8.022223521592775],\n",
       "    'max_depth': [12.0],\n",
       "    'n_estimators': [44.0],\n",
       "    'subsample': [0.7684667979200643]}},\n",
       "  'exp_key': None,\n",
       "  'owner': None,\n",
       "  'version': 0,\n",
       "  'book_time': datetime.datetime(2024, 10, 9, 13, 5, 11, 466000),\n",
       "  'refresh_time': datetime.datetime(2024, 10, 9, 13, 5, 11, 559000)},\n",
       " {'state': 2,\n",
       "  'tid': 5,\n",
       "  'spec': None,\n",
       "  'result': {'loss': -0.7178259259704394, 'status': 'ok'},\n",
       "  'misc': {'tid': 5,\n",
       "   'cmd': ('domain_attachment', 'FMinIter_Domain'),\n",
       "   'workdir': None,\n",
       "   'idxs': {'eta': [5],\n",
       "    'max_depth': [5],\n",
       "    'n_estimators': [5],\n",
       "    'subsample': [5]},\n",
       "   'vals': {'eta': [0.0001394431458941555],\n",
       "    'max_depth': [2.0],\n",
       "    'n_estimators': [988.0],\n",
       "    'subsample': [0.4242889600523887]}},\n",
       "  'exp_key': None,\n",
       "  'owner': None,\n",
       "  'version': 0,\n",
       "  'book_time': datetime.datetime(2024, 10, 9, 13, 5, 11, 560000),\n",
       "  'refresh_time': datetime.datetime(2024, 10, 9, 13, 5, 12, 498000)},\n",
       " {'state': 2,\n",
       "  'tid': 6,\n",
       "  'spec': None,\n",
       "  'result': {'loss': -0.5594464028772695, 'status': 'ok'},\n",
       "  'misc': {'tid': 6,\n",
       "   'cmd': ('domain_attachment', 'FMinIter_Domain'),\n",
       "   'workdir': None,\n",
       "   'idxs': {'eta': [6],\n",
       "    'max_depth': [6],\n",
       "    'n_estimators': [6],\n",
       "    'subsample': [6]},\n",
       "   'vals': {'eta': [8.246635166514878],\n",
       "    'max_depth': [12.0],\n",
       "    'n_estimators': [619.0],\n",
       "    'subsample': [0.9910900626943027]}},\n",
       "  'exp_key': None,\n",
       "  'owner': None,\n",
       "  'version': 0,\n",
       "  'book_time': datetime.datetime(2024, 10, 9, 13, 5, 12, 500000),\n",
       "  'refresh_time': datetime.datetime(2024, 10, 9, 13, 5, 12, 834000)},\n",
       " {'state': 2,\n",
       "  'tid': 7,\n",
       "  'spec': None,\n",
       "  'result': {'loss': -0.7634330042688159, 'status': 'ok'},\n",
       "  'misc': {'tid': 7,\n",
       "   'cmd': ('domain_attachment', 'FMinIter_Domain'),\n",
       "   'workdir': None,\n",
       "   'idxs': {'eta': [7],\n",
       "    'max_depth': [7],\n",
       "    'n_estimators': [7],\n",
       "    'subsample': [7]},\n",
       "   'vals': {'eta': [0.019747464671523208],\n",
       "    'max_depth': [4.0],\n",
       "    'n_estimators': [683.0],\n",
       "    'subsample': [0.6816867727385938]}},\n",
       "  'exp_key': None,\n",
       "  'owner': None,\n",
       "  'version': 0,\n",
       "  'book_time': datetime.datetime(2024, 10, 9, 13, 5, 12, 836000),\n",
       "  'refresh_time': datetime.datetime(2024, 10, 9, 13, 5, 14, 594000)},\n",
       " {'state': 2,\n",
       "  'tid': 8,\n",
       "  'spec': None,\n",
       "  'result': {'loss': -0.7309415831758562, 'status': 'ok'},\n",
       "  'misc': {'tid': 8,\n",
       "   'cmd': ('domain_attachment', 'FMinIter_Domain'),\n",
       "   'workdir': None,\n",
       "   'idxs': {'eta': [8],\n",
       "    'max_depth': [8],\n",
       "    'n_estimators': [8],\n",
       "    'subsample': [8]},\n",
       "   'vals': {'eta': [0.26210615788529384],\n",
       "    'max_depth': [16.0],\n",
       "    'n_estimators': [922.0],\n",
       "    'subsample': [0.6752489403067653]}},\n",
       "  'exp_key': None,\n",
       "  'owner': None,\n",
       "  'version': 0,\n",
       "  'book_time': datetime.datetime(2024, 10, 9, 13, 5, 14, 597000),\n",
       "  'refresh_time': datetime.datetime(2024, 10, 9, 13, 5, 16, 606000)},\n",
       " {'state': 2,\n",
       "  'tid': 9,\n",
       "  'spec': None,\n",
       "  'result': {'loss': -0.5077782453636198, 'status': 'ok'},\n",
       "  'misc': {'tid': 9,\n",
       "   'cmd': ('domain_attachment', 'FMinIter_Domain'),\n",
       "   'workdir': None,\n",
       "   'idxs': {'eta': [9],\n",
       "    'max_depth': [9],\n",
       "    'n_estimators': [9],\n",
       "    'subsample': [9]},\n",
       "   'vals': {'eta': [32.87053356901847],\n",
       "    'max_depth': [14.0],\n",
       "    'n_estimators': [373.0],\n",
       "    'subsample': [0.7091041782995815]}},\n",
       "  'exp_key': None,\n",
       "  'owner': None,\n",
       "  'version': 0,\n",
       "  'book_time': datetime.datetime(2024, 10, 9, 13, 5, 16, 608000),\n",
       "  'refresh_time': datetime.datetime(2024, 10, 9, 13, 5, 16, 824000)}]"
      ]
     },
     "execution_count": 79,
     "metadata": {},
     "output_type": "execute_result"
    }
   ],
   "source": [
    "trials.trials"
   ]
  },
  {
   "cell_type": "code",
   "execution_count": 80,
   "id": "98ca02b6",
   "metadata": {},
   "outputs": [
    {
     "data": {
      "text/plain": [
       "[{'loss': -0.7388087059435741, 'status': 'ok'},\n",
       " {'loss': -0.7291562298941692, 'status': 'ok'},\n",
       " {'loss': -0.7253603316837104, 'status': 'ok'},\n",
       " {'loss': -0.5177099495500145, 'status': 'ok'},\n",
       " {'loss': -0.5734500417344474, 'status': 'ok'},\n",
       " {'loss': -0.7178259259704394, 'status': 'ok'},\n",
       " {'loss': -0.5594464028772695, 'status': 'ok'},\n",
       " {'loss': -0.7634330042688159, 'status': 'ok'},\n",
       " {'loss': -0.7309415831758562, 'status': 'ok'},\n",
       " {'loss': -0.5077782453636198, 'status': 'ok'}]"
      ]
     },
     "execution_count": 80,
     "metadata": {},
     "output_type": "execute_result"
    }
   ],
   "source": [
    "trials.results[:10]"
   ]
  },
  {
   "cell_type": "code",
   "execution_count": 81,
   "id": "71a23c46",
   "metadata": {},
   "outputs": [
    {
     "data": {
      "text/plain": [
       "[-0.7388087059435741,\n",
       " -0.7291562298941692,\n",
       " -0.7253603316837104,\n",
       " -0.5177099495500145,\n",
       " -0.5734500417344474,\n",
       " -0.7178259259704394,\n",
       " -0.5594464028772695,\n",
       " -0.7634330042688159,\n",
       " -0.7309415831758562,\n",
       " -0.5077782453636198]"
      ]
     },
     "execution_count": 81,
     "metadata": {},
     "output_type": "execute_result"
    }
   ],
   "source": [
    "trials.losses()[:10]"
   ]
  },
  {
   "cell_type": "code",
   "execution_count": 82,
   "id": "8b60db22",
   "metadata": {},
   "outputs": [
    {
     "data": {
      "text/plain": [
       "dict_keys(['eta', 'max_depth', 'n_estimators', 'subsample'])"
      ]
     },
     "execution_count": 82,
     "metadata": {},
     "output_type": "execute_result"
    }
   ],
   "source": [
    "trials.vals.keys()"
   ]
  },
  {
   "cell_type": "code",
   "execution_count": 83,
   "id": "5e3bc941",
   "metadata": {},
   "outputs": [
    {
     "name": "stdout",
     "output_type": "stream",
     "text": [
      "eta [1.2974324699909743, 0.543617401495742, 0.0009974898987830784, 2.6989823508547905, 8.022223521592775]\n",
      "max_depth [12.0, 16.0, 2.0, 9.0, 12.0]\n",
      "n_estimators [261.0, 230.0, 764.0, 53.0, 44.0]\n",
      "subsample [0.789030157569486, 0.858408637742043, 0.47486304280862246, 0.9954825857592089, 0.7684667979200643]\n"
     ]
    }
   ],
   "source": [
    "for k in trials.vals.keys():\n",
    "    print(k , trials.vals[k][:5])"
   ]
  },
  {
   "cell_type": "code",
   "execution_count": 84,
   "id": "6cccaeba",
   "metadata": {},
   "outputs": [
    {
     "data": {
      "text/plain": [
       "<matplotlib.legend.Legend at 0x7f7c3e42ff50>"
      ]
     },
     "execution_count": 84,
     "metadata": {},
     "output_type": "execute_result"
    },
    {
     "data": {
      "image/png": "[encoded data removed]",
      "text/plain": [
       "<Figure size 1000x500 with 1 Axes>"
      ]
     },
     "metadata": {},
     "output_type": "display_data"
    }
   ],
   "source": [
    "fig,ax = plt.subplots(figsize=(10,5))\n",
    "\n",
    "sns.kdeplot( np.log10( trials.vals['eta'] ) , ax=ax , cut = 0 , label='sampled')\n",
    "sns.histplot( np.log10( trials.vals['eta'] ) , binwidth=0.5 , ax=ax , label='sampled' , stat = 'density')\n",
    "\n",
    "sns.kdeplot( [ np.log10( pyll.stochastic.sample(eta) ) for _ in range(10000) ] , ax=ax , cut = 0 , label='prior')\n",
    "ax.set_xlabel('eta')\n",
    "ax.legend()"
   ]
  },
  {
   "cell_type": "code",
   "execution_count": 85,
   "id": "b61247d0",
   "metadata": {},
   "outputs": [
    {
     "data": {
      "text/plain": [
       "Text(0, 0.5, 'loss')"
      ]
     },
     "execution_count": 85,
     "metadata": {},
     "output_type": "execute_result"
    },
    {
     "data": {
      "image/png": "[encoded data removed]",
      "text/plain": [
       "<Figure size 640x480 with 1 Axes>"
      ]
     },
     "metadata": {},
     "output_type": "display_data"
    }
   ],
   "source": [
    "\n",
    "ax = sns.scatterplot( x = np.log10( trials.vals['eta'] ) ,\n",
    "                 y =  trials.losses() )\n",
    "ax.set_xlabel('eta')\n",
    "ax.set_ylabel('loss')"
   ]
  },
  {
   "cell_type": "code",
   "execution_count": 86,
   "id": "10adc04a",
   "metadata": {},
   "outputs": [
    {
     "data": {
      "text/plain": [
       "Text(0, 0.5, 'loss')"
      ]
     },
     "execution_count": 86,
     "metadata": {},
     "output_type": "execute_result"
    },
    {
     "data": {
      "image/png": "[encoded data removed]",
      "text/plain": [
       "<Figure size 640x480 with 1 Axes>"
      ]
     },
     "metadata": {},
     "output_type": "display_data"
    }
   ],
   "source": [
    "ax = sns.scatterplot( x =  range(len(trials.losses())) ,  y =  trials.losses() )\n",
    "ax.set_xlabel('trials')\n",
    "ax.set_ylabel('loss')"
   ]
  },
  {
   "cell_type": "code",
   "execution_count": null,
   "id": "9bb3d77f",
   "metadata": {},
   "outputs": [],
   "source": [
    "\n"
   ]
  },
  {
   "cell_type": "code",
   "execution_count": null,
   "id": "f7bd95e1",
   "metadata": {},
   "outputs": [],
   "source": []
  },
  {
   "cell_type": "markdown",
   "id": "26865150",
   "metadata": {},
   "source": [
    "# changing the cross-validation scheme"
   ]
  },
  {
   "cell_type": "code",
   "execution_count": 87,
   "id": "c3bfa499",
   "metadata": {},
   "outputs": [],
   "source": [
    "from sklearn.model_selection import StratifiedKFold"
   ]
  },
  {
   "cell_type": "code",
   "execution_count": 88,
   "id": "25f04603",
   "metadata": {},
   "outputs": [
    {
     "name": "stdout",
     "output_type": "stream",
     "text": [
      "2131 [1 2 3 4 5]\n",
      "533 [ 0 11 12 17 18]\n",
      "2131 [0 1 3 5 6]\n",
      "533 [ 2  4 16 25 26]\n",
      "2131 [0 1 2 3 4]\n",
      "533 [ 6  8 13 21 24]\n",
      "2131 [0 2 3 4 6]\n",
      "533 [ 1  5  7 10 14]\n",
      "2132 [0 1 2 4 5]\n",
      "532 [ 3  9 20 32 54]\n"
     ]
    }
   ],
   "source": [
    "skf = StratifiedKFold(n_splits=5 , shuffle=True , random_state = 2024 )\n",
    "for t,v in skf.split( eye_features, labels ):\n",
    "\n",
    "    print(len(t), t[:5])\n",
    "    print(len(v), v[:5])"
   ]
  },
  {
   "cell_type": "code",
   "execution_count": 89,
   "id": "ccc63c7d",
   "metadata": {},
   "outputs": [
    {
     "data": {
      "text/plain": [
       "array([0.75040452, 0.74499737, 0.76594438, 0.75008174, 0.74560265])"
      ]
     },
     "execution_count": 89,
     "metadata": {},
     "output_type": "execute_result"
    }
   ],
   "source": [
    "from sklearn.model_selection import cross_val_score\n",
    "cross_val_score( xgb.XGBClassifier(n_jobs=multiprocessing.cpu_count()-2) , \n",
    "                eye_features, labels, scoring = 'roc_auc_ovr' , cv = skf )"
   ]
  },
  {
   "cell_type": "markdown",
   "id": "fc40ca52",
   "metadata": {},
   "source": [
    "### exercise\n",
    "\n",
    "Write the function we will give to `fmin` to evaluate an XGBoost classifier with 5-fold CV with a ROC AUC score.\n"
   ]
  },
  {
   "cell_type": "code",
   "execution_count": 90,
   "id": "11d8152e",
   "metadata": {},
   "outputs": [],
   "source": [
    "## tentative solution\n",
    "def hyperopt_xgb_train_CV5( params ):\n",
    "    \n",
    "    losses = -1 * cross_val_score( xgb.XGBClassifier(n_jobs=multiprocessing.cpu_count()-2 , **params) , \n",
    "                eye_features, labels, scoring = 'roc_auc_ovr' , cv = skf )\n",
    "        \n",
    "    return_dict = {'loss': np.mean(losses),\n",
    "                   'loss_variance' : np.var(losses),\n",
    "                   'status': STATUS_OK\n",
    "                   }\n",
    "    return return_dict\n"
   ]
  },
  {
   "cell_type": "code",
   "execution_count": 91,
   "id": "fd68d36c",
   "metadata": {},
   "outputs": [
    {
     "data": {
      "text/plain": [
       "{'loss': -0.7510766126017809,\n",
       " 'loss_variance': 1.0129111084212657e-05,\n",
       " 'status': 'ok'}"
      ]
     },
     "execution_count": 91,
     "metadata": {},
     "output_type": "execute_result"
    }
   ],
   "source": [
    "params = dict( n_estimators=100,\n",
    "               eta = 0.3,\n",
    "               subsample = 0.8,\n",
    "               max_depth = 5)\n",
    "hyperopt_xgb_train_CV5( params )"
   ]
  },
  {
   "cell_type": "code",
   "execution_count": 92,
   "id": "9a55054c",
   "metadata": {},
   "outputs": [
    {
     "name": "stdout",
     "output_type": "stream",
     "text": [
      "100%|█████████████████████████████████████████████████████████████████████████████████████████████████████████████████| 10/10 [04:03<00:00, 24.30s/trial, best loss: -0.7637962039217782]\n",
      "CPU times: user 24min 2s, sys: 3.67 s, total: 24min 5s\n",
      "Wall time: 4min 3s\n"
     ]
    }
   ],
   "source": [
    "%%time\n",
    "trials = Trials()\n",
    "\n",
    "best = fmin(hyperopt_xgb_train_CV5, \n",
    "            space4xgb, \n",
    "            algo=tpe.suggest, \n",
    "            max_evals=10, \n",
    "            trials=trials)"
   ]
  },
  {
   "cell_type": "markdown",
   "id": "a9294529",
   "metadata": {},
   "source": [
    "# warm start : continue searching for better solutions"
   ]
  },
  {
   "cell_type": "code",
   "execution_count": 39,
   "id": "328acd98",
   "metadata": {},
   "outputs": [
    {
     "name": "stdout",
     "output_type": "stream",
     "text": [
      "100%|█████████████████████████████████████████████████████████████████████████████████████████████████████████████████| 20/20 [02:50<00:00, 17.06s/trial, best loss: -0.7714936180275178]\n"
     ]
    }
   ],
   "source": [
    "best = fmin(hyperopt_xgb_train_CV5, \n",
    "            space4xgb, \n",
    "            algo=tpe.suggest, \n",
    "            max_evals=12, \n",
    "            trials=trials)"
   ]
  },
  {
   "cell_type": "markdown",
   "id": "f838dc7d",
   "metadata": {},
   "source": [
    "# nested search space\n",
    "\n",
    "It is possible nest elements in `hp.choice()` or `hp.pchoice()` to specify more complex search spaces:"
   ]
  },
  {
   "cell_type": "code",
   "execution_count": 40,
   "id": "b91e90d1",
   "metadata": {},
   "outputs": [],
   "source": [
    "space4nested = hp.pchoice('classifier_type',\n",
    "                          [(0.6, {'classifier_type': 'xgboost',\n",
    "                                    'n_estimators': pyll.scope.int(hp.quniform('n_estimators', 1 , 1000,1)),\n",
    "                                    'eta': hp.loguniform('eta' , np.log(10**-4) , np.log(10**2) ),\n",
    "                                    'max_depth': pyll.scope.int(hp.quniform('max_depth', 1, 16, 1)),\n",
    "                                    'subsample': hp.uniform('subsample', 0.3, 1)\n",
    "                                  }\n",
    "                            ),\n",
    "                           (0.4, {'classifier_type': 'logistic regression',\n",
    "                                  'C': hp.loguniform(\"C\", low=np.log(1e-5), high=np.log(1e2)),\n",
    "                                  'penalty': hp.choice('penalty', ['l1','l2'])\n",
    "                                  }\n",
    "                            )]\n",
    "                          )"
   ]
  },
  {
   "cell_type": "code",
   "execution_count": 43,
   "id": "a9a6cdfd",
   "metadata": {},
   "outputs": [],
   "source": [
    "from sklearn.linear_model import LogisticRegression\n",
    "from sklearn.preprocessing import StandardScaler\n",
    "from sklearn.pipeline import Pipeline\n",
    "\n",
    "\n",
    "def hyperopt_complex_train_CV5( params ):\n",
    "    \n",
    "    classif_type = params.pop('classifier_type')\n",
    "    \n",
    "    model = None\n",
    "    if classif_type == 'xgboost':\n",
    "        model = xgb.XGBClassifier(n_jobs=multiprocessing.cpu_count()-2 , **params) \n",
    "    \n",
    "    else:\n",
    "        model =Pipeline([('scalar',StandardScaler()), \n",
    "                      ('model',LogisticRegression(solver ='liblinear', class_weight='balanced', **params))])\n",
    "    \n",
    "    losses = -1 * cross_val_score( model  , \n",
    "                    eye_features, labels, scoring = 'roc_auc_ovr' , cv = skf )\n",
    "        \n",
    "    return_dict = {'loss': np.mean(losses),\n",
    "                   'loss_variance' : np.var(losses),\n",
    "                   'status': STATUS_OK\n",
    "                   }\n",
    "    return return_dict\n"
   ]
  },
  {
   "cell_type": "code",
   "execution_count": 44,
   "id": "a79b480b",
   "metadata": {},
   "outputs": [
    {
     "name": "stdout",
     "output_type": "stream",
     "text": [
      "100%|█████████████████████████████████████████████████████████████████████████████████████████████████████████████████| 15/15 [02:14<00:00,  8.97s/trial, best loss: -0.7639579442698732]\n",
      "CPU times: user 13min 1s, sys: 2.38 s, total: 13min 3s\n",
      "Wall time: 2min 14s\n"
     ]
    }
   ],
   "source": [
    "%%time\n",
    "trials = Trials()\n",
    "best = fmin(hyperopt_complex_train_CV5, \n",
    "            space4nested, \n",
    "            algo=tpe.suggest, \n",
    "            max_evals=15, \n",
    "            trials=trials)"
   ]
  },
  {
   "cell_type": "code",
   "execution_count": 51,
   "id": "b5481d66",
   "metadata": {},
   "outputs": [
    {
     "data": {
      "text/plain": [
       "[{'state': 2,\n",
       "  'tid': 0,\n",
       "  'spec': None,\n",
       "  'result': {'loss': -0.7248186999309988,\n",
       "   'loss_variance': 0.00011667586084578778,\n",
       "   'status': 'ok'},\n",
       "  'misc': {'tid': 0,\n",
       "   'cmd': ('domain_attachment', 'FMinIter_Domain'),\n",
       "   'workdir': None,\n",
       "   'idxs': {'C': [0],\n",
       "    'classifier_type': [0],\n",
       "    'eta': [],\n",
       "    'max_depth': [],\n",
       "    'n_estimators': [],\n",
       "    'penalty': [0],\n",
       "    'subsample': []},\n",
       "   'vals': {'C': [2.7557546161390567],\n",
       "    'classifier_type': [1],\n",
       "    'eta': [],\n",
       "    'max_depth': [],\n",
       "    'n_estimators': [],\n",
       "    'penalty': [1],\n",
       "    'subsample': []}},\n",
       "  'exp_key': None,\n",
       "  'owner': None,\n",
       "  'version': 0,\n",
       "  'book_time': datetime.datetime(2024, 10, 9, 12, 14, 55, 176000),\n",
       "  'refresh_time': datetime.datetime(2024, 10, 9, 12, 14, 55, 335000)},\n",
       " {'state': 2,\n",
       "  'tid': 1,\n",
       "  'spec': None,\n",
       "  'result': {'loss': -0.680161851239831,\n",
       "   'loss_variance': 3.3164214443651106e-05,\n",
       "   'status': 'ok'},\n",
       "  'misc': {'tid': 1,\n",
       "   'cmd': ('domain_attachment', 'FMinIter_Domain'),\n",
       "   'workdir': None,\n",
       "   'idxs': {'C': [1],\n",
       "    'classifier_type': [1],\n",
       "    'eta': [],\n",
       "    'max_depth': [],\n",
       "    'n_estimators': [],\n",
       "    'penalty': [1],\n",
       "    'subsample': []},\n",
       "   'vals': {'C': [2.066722453659374e-05],\n",
       "    'classifier_type': [1],\n",
       "    'eta': [],\n",
       "    'max_depth': [],\n",
       "    'n_estimators': [],\n",
       "    'penalty': [1],\n",
       "    'subsample': []}},\n",
       "  'exp_key': None,\n",
       "  'owner': None,\n",
       "  'version': 0,\n",
       "  'book_time': datetime.datetime(2024, 10, 9, 12, 14, 55, 338000),\n",
       "  'refresh_time': datetime.datetime(2024, 10, 9, 12, 14, 55, 393000)},\n",
       " {'state': 2,\n",
       "  'tid': 2,\n",
       "  'spec': None,\n",
       "  'result': {'loss': -0.4806233021317424,\n",
       "   'loss_variance': 0.00010167973969624761,\n",
       "   'status': 'ok'},\n",
       "  'misc': {'tid': 2,\n",
       "   'cmd': ('domain_attachment', 'FMinIter_Domain'),\n",
       "   'workdir': None,\n",
       "   'idxs': {'C': [],\n",
       "    'classifier_type': [2],\n",
       "    'eta': [2],\n",
       "    'max_depth': [2],\n",
       "    'n_estimators': [2],\n",
       "    'penalty': [],\n",
       "    'subsample': [2]},\n",
       "   'vals': {'C': [],\n",
       "    'classifier_type': [0],\n",
       "    'eta': [87.02219450435598],\n",
       "    'max_depth': [6.0],\n",
       "    'n_estimators': [128.0],\n",
       "    'penalty': [],\n",
       "    'subsample': [0.9767925001792501]}},\n",
       "  'exp_key': None,\n",
       "  'owner': None,\n",
       "  'version': 0,\n",
       "  'book_time': datetime.datetime(2024, 10, 9, 12, 14, 55, 395000),\n",
       "  'refresh_time': datetime.datetime(2024, 10, 9, 12, 14, 56, 30000)},\n",
       " {'state': 2,\n",
       "  'tid': 3,\n",
       "  'spec': None,\n",
       "  'result': {'loss': -0.7357837019081384,\n",
       "   'loss_variance': 0.0001067140651052353,\n",
       "   'status': 'ok'},\n",
       "  'misc': {'tid': 3,\n",
       "   'cmd': ('domain_attachment', 'FMinIter_Domain'),\n",
       "   'workdir': None,\n",
       "   'idxs': {'C': [],\n",
       "    'classifier_type': [3],\n",
       "    'eta': [3],\n",
       "    'max_depth': [3],\n",
       "    'n_estimators': [3],\n",
       "    'penalty': [],\n",
       "    'subsample': [3]},\n",
       "   'vals': {'C': [],\n",
       "    'classifier_type': [0],\n",
       "    'eta': [0.00010370296601552027],\n",
       "    'max_depth': [2.0],\n",
       "    'n_estimators': [673.0],\n",
       "    'penalty': [],\n",
       "    'subsample': [0.40403896228629405]}},\n",
       "  'exp_key': None,\n",
       "  'owner': None,\n",
       "  'version': 0,\n",
       "  'book_time': datetime.datetime(2024, 10, 9, 12, 14, 56, 35000),\n",
       "  'refresh_time': datetime.datetime(2024, 10, 9, 12, 14, 59, 882000)},\n",
       " {'state': 2,\n",
       "  'tid': 4,\n",
       "  'spec': None,\n",
       "  'result': {'loss': -0.7639579442698732,\n",
       "   'loss_variance': 2.595215671000119e-05,\n",
       "   'status': 'ok'},\n",
       "  'misc': {'tid': 4,\n",
       "   'cmd': ('domain_attachment', 'FMinIter_Domain'),\n",
       "   'workdir': None,\n",
       "   'idxs': {'C': [],\n",
       "    'classifier_type': [4],\n",
       "    'eta': [4],\n",
       "    'max_depth': [4],\n",
       "    'n_estimators': [4],\n",
       "    'penalty': [],\n",
       "    'subsample': [4]},\n",
       "   'vals': {'C': [],\n",
       "    'classifier_type': [0],\n",
       "    'eta': [0.001408770340478244],\n",
       "    'max_depth': [6.0],\n",
       "    'n_estimators': [378.0],\n",
       "    'penalty': [],\n",
       "    'subsample': [0.6357481143714324]}},\n",
       "  'exp_key': None,\n",
       "  'owner': None,\n",
       "  'version': 0,\n",
       "  'book_time': datetime.datetime(2024, 10, 9, 12, 14, 59, 885000),\n",
       "  'refresh_time': datetime.datetime(2024, 10, 9, 12, 15, 13, 446000)},\n",
       " {'state': 2,\n",
       "  'tid': 5,\n",
       "  'spec': None,\n",
       "  'result': {'loss': -0.5791635320563024,\n",
       "   'loss_variance': 0.0017091580234166871,\n",
       "   'status': 'ok'},\n",
       "  'misc': {'tid': 5,\n",
       "   'cmd': ('domain_attachment', 'FMinIter_Domain'),\n",
       "   'workdir': None,\n",
       "   'idxs': {'C': [],\n",
       "    'classifier_type': [5],\n",
       "    'eta': [5],\n",
       "    'max_depth': [5],\n",
       "    'n_estimators': [5],\n",
       "    'penalty': [],\n",
       "    'subsample': [5]},\n",
       "   'vals': {'C': [],\n",
       "    'classifier_type': [0],\n",
       "    'eta': [12.921439989399948],\n",
       "    'max_depth': [15.0],\n",
       "    'n_estimators': [259.0],\n",
       "    'penalty': [],\n",
       "    'subsample': [0.3732487600211258]}},\n",
       "  'exp_key': None,\n",
       "  'owner': None,\n",
       "  'version': 0,\n",
       "  'book_time': datetime.datetime(2024, 10, 9, 12, 15, 13, 451000),\n",
       "  'refresh_time': datetime.datetime(2024, 10, 9, 12, 15, 14, 721000)},\n",
       " {'state': 2,\n",
       "  'tid': 6,\n",
       "  'spec': None,\n",
       "  'result': {'loss': -0.5, 'loss_variance': 0.0, 'status': 'ok'},\n",
       "  'misc': {'tid': 6,\n",
       "   'cmd': ('domain_attachment', 'FMinIter_Domain'),\n",
       "   'workdir': None,\n",
       "   'idxs': {'C': [6],\n",
       "    'classifier_type': [6],\n",
       "    'eta': [],\n",
       "    'max_depth': [],\n",
       "    'n_estimators': [],\n",
       "    'penalty': [6],\n",
       "    'subsample': []},\n",
       "   'vals': {'C': [5.859272976598199e-05],\n",
       "    'classifier_type': [1],\n",
       "    'eta': [],\n",
       "    'max_depth': [],\n",
       "    'n_estimators': [],\n",
       "    'penalty': [0],\n",
       "    'subsample': []}},\n",
       "  'exp_key': None,\n",
       "  'owner': None,\n",
       "  'version': 0,\n",
       "  'book_time': datetime.datetime(2024, 10, 9, 12, 15, 14, 727000),\n",
       "  'refresh_time': datetime.datetime(2024, 10, 9, 12, 15, 14, 796000)},\n",
       " {'state': 2,\n",
       "  'tid': 7,\n",
       "  'spec': None,\n",
       "  'result': {'loss': -0.5469650166687018,\n",
       "   'loss_variance': 0.003111342896821352,\n",
       "   'status': 'ok'},\n",
       "  'misc': {'tid': 7,\n",
       "   'cmd': ('domain_attachment', 'FMinIter_Domain'),\n",
       "   'workdir': None,\n",
       "   'idxs': {'C': [],\n",
       "    'classifier_type': [7],\n",
       "    'eta': [7],\n",
       "    'max_depth': [7],\n",
       "    'n_estimators': [7],\n",
       "    'penalty': [],\n",
       "    'subsample': [7]},\n",
       "   'vals': {'C': [],\n",
       "    'classifier_type': [0],\n",
       "    'eta': [3.0602218068785816],\n",
       "    'max_depth': [3.0],\n",
       "    'n_estimators': [776.0],\n",
       "    'penalty': [],\n",
       "    'subsample': [0.9601615966750574]}},\n",
       "  'exp_key': None,\n",
       "  'owner': None,\n",
       "  'version': 0,\n",
       "  'book_time': datetime.datetime(2024, 10, 9, 12, 15, 14, 798000),\n",
       "  'refresh_time': datetime.datetime(2024, 10, 9, 12, 15, 17, 556000)},\n",
       " {'state': 2,\n",
       "  'tid': 8,\n",
       "  'spec': None,\n",
       "  'result': {'loss': -0.723460885436024,\n",
       "   'loss_variance': 0.00011874114430990297,\n",
       "   'status': 'ok'},\n",
       "  'misc': {'tid': 8,\n",
       "   'cmd': ('domain_attachment', 'FMinIter_Domain'),\n",
       "   'workdir': None,\n",
       "   'idxs': {'C': [8],\n",
       "    'classifier_type': [8],\n",
       "    'eta': [],\n",
       "    'max_depth': [],\n",
       "    'n_estimators': [],\n",
       "    'penalty': [8],\n",
       "    'subsample': []},\n",
       "   'vals': {'C': [0.12557171545829693],\n",
       "    'classifier_type': [1],\n",
       "    'eta': [],\n",
       "    'max_depth': [],\n",
       "    'n_estimators': [],\n",
       "    'penalty': [1],\n",
       "    'subsample': []}},\n",
       "  'exp_key': None,\n",
       "  'owner': None,\n",
       "  'version': 0,\n",
       "  'book_time': datetime.datetime(2024, 10, 9, 12, 15, 17, 560000),\n",
       "  'refresh_time': datetime.datetime(2024, 10, 9, 12, 15, 17, 681000)},\n",
       " {'state': 2,\n",
       "  'tid': 9,\n",
       "  'spec': None,\n",
       "  'result': {'loss': -0.7523767739191678,\n",
       "   'loss_variance': 3.0158827067730845e-05,\n",
       "   'status': 'ok'},\n",
       "  'misc': {'tid': 9,\n",
       "   'cmd': ('domain_attachment', 'FMinIter_Domain'),\n",
       "   'workdir': None,\n",
       "   'idxs': {'C': [],\n",
       "    'classifier_type': [9],\n",
       "    'eta': [9],\n",
       "    'max_depth': [9],\n",
       "    'n_estimators': [9],\n",
       "    'penalty': [],\n",
       "    'subsample': [9]},\n",
       "   'vals': {'C': [],\n",
       "    'classifier_type': [0],\n",
       "    'eta': [0.00101278042881161],\n",
       "    'max_depth': [4.0],\n",
       "    'n_estimators': [907.0],\n",
       "    'penalty': [],\n",
       "    'subsample': [0.9746826367514989]}},\n",
       "  'exp_key': None,\n",
       "  'owner': None,\n",
       "  'version': 0,\n",
       "  'book_time': datetime.datetime(2024, 10, 9, 12, 15, 17, 683000),\n",
       "  'refresh_time': datetime.datetime(2024, 10, 9, 12, 15, 31, 387000)},\n",
       " {'state': 2,\n",
       "  'tid': 10,\n",
       "  'spec': None,\n",
       "  'result': {'loss': -0.7200194873956302,\n",
       "   'loss_variance': 3.673571095915369e-05,\n",
       "   'status': 'ok'},\n",
       "  'misc': {'tid': 10,\n",
       "   'cmd': ('domain_attachment', 'FMinIter_Domain'),\n",
       "   'workdir': None,\n",
       "   'idxs': {'C': [],\n",
       "    'classifier_type': [10],\n",
       "    'eta': [10],\n",
       "    'max_depth': [10],\n",
       "    'n_estimators': [10],\n",
       "    'penalty': [],\n",
       "    'subsample': [10]},\n",
       "   'vals': {'C': [],\n",
       "    'classifier_type': [0],\n",
       "    'eta': [1.6505603286989246],\n",
       "    'max_depth': [16.0],\n",
       "    'n_estimators': [849.0],\n",
       "    'penalty': [],\n",
       "    'subsample': [0.7847829636703052]}},\n",
       "  'exp_key': None,\n",
       "  'owner': None,\n",
       "  'version': 0,\n",
       "  'book_time': datetime.datetime(2024, 10, 9, 12, 15, 31, 390000),\n",
       "  'refresh_time': datetime.datetime(2024, 10, 9, 12, 15, 36, 881000)},\n",
       " {'state': 2,\n",
       "  'tid': 11,\n",
       "  'spec': None,\n",
       "  'result': {'loss': -0.6858533988191403,\n",
       "   'loss_variance': 3.1761189986153365e-05,\n",
       "   'status': 'ok'},\n",
       "  'misc': {'tid': 11,\n",
       "   'cmd': ('domain_attachment', 'FMinIter_Domain'),\n",
       "   'workdir': None,\n",
       "   'idxs': {'C': [11],\n",
       "    'classifier_type': [11],\n",
       "    'eta': [],\n",
       "    'max_depth': [],\n",
       "    'n_estimators': [],\n",
       "    'penalty': [11],\n",
       "    'subsample': []},\n",
       "   'vals': {'C': [0.00016509644005456534],\n",
       "    'classifier_type': [1],\n",
       "    'eta': [],\n",
       "    'max_depth': [],\n",
       "    'n_estimators': [],\n",
       "    'penalty': [1],\n",
       "    'subsample': []}},\n",
       "  'exp_key': None,\n",
       "  'owner': None,\n",
       "  'version': 0,\n",
       "  'book_time': datetime.datetime(2024, 10, 9, 12, 15, 36, 884000),\n",
       "  'refresh_time': datetime.datetime(2024, 10, 9, 12, 15, 36, 938000)},\n",
       " {'state': 2,\n",
       "  'tid': 12,\n",
       "  'spec': None,\n",
       "  'result': {'loss': -0.680319369565716,\n",
       "   'loss_variance': 3.332042880322272e-05,\n",
       "   'status': 'ok'},\n",
       "  'misc': {'tid': 12,\n",
       "   'cmd': ('domain_attachment', 'FMinIter_Domain'),\n",
       "   'workdir': None,\n",
       "   'idxs': {'C': [12],\n",
       "    'classifier_type': [12],\n",
       "    'eta': [],\n",
       "    'max_depth': [],\n",
       "    'n_estimators': [],\n",
       "    'penalty': [12],\n",
       "    'subsample': []},\n",
       "   'vals': {'C': [2.3117635916424532e-05],\n",
       "    'classifier_type': [1],\n",
       "    'eta': [],\n",
       "    'max_depth': [],\n",
       "    'n_estimators': [],\n",
       "    'penalty': [1],\n",
       "    'subsample': []}},\n",
       "  'exp_key': None,\n",
       "  'owner': None,\n",
       "  'version': 0,\n",
       "  'book_time': datetime.datetime(2024, 10, 9, 12, 15, 36, 940000),\n",
       "  'refresh_time': datetime.datetime(2024, 10, 9, 12, 15, 37, 25000)},\n",
       " {'state': 2,\n",
       "  'tid': 13,\n",
       "  'spec': None,\n",
       "  'result': {'loss': -0.7554590983927617,\n",
       "   'loss_variance': 2.9920924871329727e-05,\n",
       "   'status': 'ok'},\n",
       "  'misc': {'tid': 13,\n",
       "   'cmd': ('domain_attachment', 'FMinIter_Domain'),\n",
       "   'workdir': None,\n",
       "   'idxs': {'C': [],\n",
       "    'classifier_type': [13],\n",
       "    'eta': [13],\n",
       "    'max_depth': [13],\n",
       "    'n_estimators': [13],\n",
       "    'penalty': [],\n",
       "    'subsample': [13]},\n",
       "   'vals': {'C': [],\n",
       "    'classifier_type': [0],\n",
       "    'eta': [0.00012169218349931602],\n",
       "    'max_depth': [11.0],\n",
       "    'n_estimators': [836.0],\n",
       "    'penalty': [],\n",
       "    'subsample': [0.7566344214172804]}},\n",
       "  'exp_key': None,\n",
       "  'owner': None,\n",
       "  'version': 0,\n",
       "  'book_time': datetime.datetime(2024, 10, 9, 12, 15, 37, 29000),\n",
       "  'refresh_time': datetime.datetime(2024, 10, 9, 12, 17, 7, 979000)},\n",
       " {'state': 2,\n",
       "  'tid': 14,\n",
       "  'spec': None,\n",
       "  'result': {'loss': -0.5390587401058506,\n",
       "   'loss_variance': 0.002526267206949865,\n",
       "   'status': 'ok'},\n",
       "  'misc': {'tid': 14,\n",
       "   'cmd': ('domain_attachment', 'FMinIter_Domain'),\n",
       "   'workdir': None,\n",
       "   'idxs': {'C': [],\n",
       "    'classifier_type': [14],\n",
       "    'eta': [14],\n",
       "    'max_depth': [14],\n",
       "    'n_estimators': [14],\n",
       "    'penalty': [],\n",
       "    'subsample': [14]},\n",
       "   'vals': {'C': [],\n",
       "    'classifier_type': [0],\n",
       "    'eta': [7.431501390320071],\n",
       "    'max_depth': [4.0],\n",
       "    'n_estimators': [498.0],\n",
       "    'penalty': [],\n",
       "    'subsample': [0.9772129989162346]}},\n",
       "  'exp_key': None,\n",
       "  'owner': None,\n",
       "  'version': 0,\n",
       "  'book_time': datetime.datetime(2024, 10, 9, 12, 17, 7, 983000),\n",
       "  'refresh_time': datetime.datetime(2024, 10, 9, 12, 17, 9, 690000)}]"
      ]
     },
     "execution_count": 51,
     "metadata": {},
     "output_type": "execute_result"
    }
   ],
   "source": [
    "trials.trials"
   ]
  },
  {
   "cell_type": "code",
   "execution_count": 45,
   "id": "9b55b1ff",
   "metadata": {},
   "outputs": [
    {
     "data": {
      "text/plain": [
       "Text(0, 0.5, 'loss')"
      ]
     },
     "execution_count": 45,
     "metadata": {},
     "output_type": "execute_result"
    },
    {
     "data": {
      "image/png": "[encoded data removed]",
      "text/plain": [
       "<Figure size 640x480 with 1 Axes>"
      ]
     },
     "metadata": {},
     "output_type": "display_data"
    }
   ],
   "source": [
    "ax = sns.scatterplot( x =  range(len(trials.losses())) ,  y =  trials.losses() , \n",
    "                     hue = np.array(['xgboost','logistic regression'])[trials.vals['classifier_type']] )\n",
    "ax.set_xlabel('trials')\n",
    "ax.set_ylabel('loss')"
   ]
  },
  {
   "cell_type": "code",
   "execution_count": null,
   "id": "0386f490",
   "metadata": {},
   "outputs": [],
   "source": []
  },
  {
   "cell_type": "code",
   "execution_count": null,
   "id": "3146aa97",
   "metadata": {},
   "outputs": [],
   "source": [
    "\n",
    "\n"
   ]
  }
 ],
 "metadata": {
  "kernelspec": {
   "display_name": "Environment (conda_intermediateml)",
   "language": "python",
   "name": "conda_intermediateml"
  },
  "language_info": {
   "codemirror_mode": {
    "name": "ipython",
    "version": 3
   },
   "file_extension": ".py",
   "mimetype": "text/x-python",
   "name": "python",
   "nbconvert_exporter": "python",
   "pygments_lexer": "ipython3",
   "version": "3.11.9"
  }
 },
 "nbformat": 4,
 "nbformat_minor": 5
}
