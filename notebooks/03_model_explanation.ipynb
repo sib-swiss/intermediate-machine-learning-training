{
 "cells": [
  {
   "cell_type": "markdown",
   "id": "fc5988b8",
   "metadata": {},
   "source": [
    "# interpretable ML \n",
    "\n",
    "\n"
   ]
  },
  {
   "cell_type": "code",
   "execution_count": null,
   "id": "fd897c3a",
   "metadata": {},
   "outputs": [],
   "source": [
    "## we start again by reading our data\n",
    "import pandas as pd\n",
    "from sklearn.model_selection import train_test_split\n",
    "\n",
    "eye_movements = pd.read_csv(\"../data/eye_movements_aggregated.csv\")\n",
    "eye_features = eye_movements.loc[:,['fixcount', 'firstPassCnt', 'P1stFixation', 'P2stFixation',\n",
    "       'prevFixDur', 'firstfixDur', 'firstPassFixDur', 'nextFixDur',\n",
    "       'firstSaccLen', 'lastSaccLen', 'prevFixPos', 'landingPos', 'leavingPos',\n",
    "       'totalFixDur', 'meanFixDur', 'nRegressFrom', 'regressLen',\n",
    "       'nextWordRegress', 'regressDur', 'pupilDiamMax', 'pupilDiamLag',\n",
    "       'timePrtctg']]\n",
    "labels = eye_movements['target'].astype(int)\n"
   ]
  },
  {
   "cell_type": "code",
   "execution_count": null,
   "id": "f2f0acda",
   "metadata": {},
   "outputs": [],
   "source": [
    "## multi-class with SHAP adds a layer of complexity, we will keep it simple here and \n",
    "## focus on a model separating the category 2 (relevant and correct) from the rest\n",
    "labels = labels == 2\n",
    "labels.value_counts()"
   ]
  },
  {
   "cell_type": "code",
   "execution_count": null,
   "id": "6294d1b8",
   "metadata": {},
   "outputs": [],
   "source": [
    "X_train, X_valid, y_train, y_valid = train_test_split(eye_features, labels, \n",
    "                                                      stratify=labels, \n",
    "                                                      test_size=0.2, random_state=123)"
   ]
  },
  {
   "cell_type": "markdown",
   "id": "9572aba3",
   "metadata": {},
   "source": [
    "## SHAP"
   ]
  },
  {
   "cell_type": "code",
   "execution_count": null,
   "id": "d7057a60",
   "metadata": {},
   "outputs": [],
   "source": [
    "import shap"
   ]
  },
  {
   "cell_type": "code",
   "execution_count": null,
   "id": "4d8b8cfd",
   "metadata": {},
   "outputs": [],
   "source": [
    "import xgboost\n",
    "\n",
    "model_xgb = xgboost.XGBClassifier(n_estimators=100, \n",
    "                                  max_depth=3,\n",
    "                                  early_stopping_rounds=10 ,\n",
    "                                  eval_metric= 'auc')\n",
    "model_xgb.fit(X_train, y_train, \n",
    "              eval_set=[(X_train, y_train),(X_valid, y_valid)],\n",
    "              verbose=True)\n",
    "\n"
   ]
  },
  {
   "cell_type": "code",
   "execution_count": null,
   "id": "fc0a7220",
   "metadata": {},
   "outputs": [],
   "source": [
    "from sklearn.metrics import roc_auc_score\n",
    "roc_auc_score( y_valid , model_xgb.predict_proba(X_valid)[:,1] )"
   ]
  },
  {
   "cell_type": "code",
   "execution_count": null,
   "id": "1621fadf",
   "metadata": {},
   "outputs": [],
   "source": [
    "eye_features.head()"
   ]
  },
  {
   "cell_type": "markdown",
   "id": "cb6aa501",
   "metadata": {},
   "source": [
    "## SHAP basic usage and plots"
   ]
  },
  {
   "cell_type": "code",
   "execution_count": null,
   "id": "979e05ce",
   "metadata": {},
   "outputs": [],
   "source": []
  },
  {
   "cell_type": "code",
   "execution_count": null,
   "id": "a076e236",
   "metadata": {},
   "outputs": [],
   "source": [
    "import shap\n",
    "\n",
    "%time explainer = shap.Explainer( model_xgb ) ## creates an explainer from our model\n",
    "%time shap_values = explainer(X_train) ## compute shap values for the prediction of the models on some data"
   ]
  },
  {
   "cell_type": "code",
   "execution_count": null,
   "id": "4889fe58",
   "metadata": {},
   "outputs": [],
   "source": [
    "explainer"
   ]
  },
  {
   "cell_type": "code",
   "execution_count": null,
   "id": "abc3697e",
   "metadata": {},
   "outputs": [],
   "source": [
    "shap_values"
   ]
  },
  {
   "cell_type": "code",
   "execution_count": null,
   "id": "1e6028bd",
   "metadata": {},
   "outputs": [],
   "source": [
    "shap_values[:,'fixcount']"
   ]
  },
  {
   "cell_type": "code",
   "execution_count": null,
   "id": "da6e01fd",
   "metadata": {},
   "outputs": [],
   "source": [
    "shap_values[:,'fixcount'].values.shape"
   ]
  },
  {
   "cell_type": "code",
   "execution_count": null,
   "id": "685c385a",
   "metadata": {},
   "outputs": [],
   "source": [
    "y_train[:5]"
   ]
  },
  {
   "cell_type": "code",
   "execution_count": null,
   "id": "ba67315a",
   "metadata": {},
   "outputs": [],
   "source": [
    "model_xgb.predict( X_train.iloc[:,:] )"
   ]
  },
  {
   "cell_type": "code",
   "execution_count": null,
   "id": "ac38203f",
   "metadata": {},
   "outputs": [],
   "source": [
    "## explaination of a single prediction\n",
    "\n",
    "## try with 0 , 1 ,19 ,25 ,26\n",
    "shap.plots.waterfall(shap_values[1])"
   ]
  },
  {
   "cell_type": "code",
   "execution_count": null,
   "id": "4025aa90",
   "metadata": {},
   "outputs": [],
   "source": [
    "## average SHAP value over all predictions --> proxy of feature importance \n",
    "shap.plots.bar(shap_values)"
   ]
  },
  {
   "cell_type": "code",
   "execution_count": null,
   "id": "0f052703",
   "metadata": {},
   "outputs": [],
   "source": [
    "## beeswarm gives us a sense of the relationship between the feature values and the SHAP\n",
    "shap.plots.beeswarm(shap_values)"
   ]
  },
  {
   "cell_type": "code",
   "execution_count": null,
   "id": "50c392d1",
   "metadata": {},
   "outputs": [],
   "source": [
    "## plotting the SHAP value for each observed age\n",
    "shap.plots.scatter( shap_values[:,'P2stFixation'] )"
   ]
  },
  {
   "cell_type": "code",
   "execution_count": null,
   "id": "d400ef8e",
   "metadata": {},
   "outputs": [],
   "source": [
    "shap.plots.scatter( shap_values[:,'pupilDiamMax'] )"
   ]
  },
  {
   "cell_type": "code",
   "execution_count": null,
   "id": "dda22f1e",
   "metadata": {},
   "outputs": [],
   "source": [
    "shap.plots.scatter( shap_values[:,'timePrtctg'] )"
   ]
  },
  {
   "cell_type": "code",
   "execution_count": null,
   "id": "cafd1e42",
   "metadata": {},
   "outputs": [],
   "source": [
    "## visualize some of the interaction between feature by coloring according to another variable \n",
    "shap.plots.scatter( shap_values[:,'prevFixPos'] , color=shap_values )"
   ]
  },
  {
   "cell_type": "code",
   "execution_count": null,
   "id": "4bce1009",
   "metadata": {
    "scrolled": false
   },
   "outputs": [],
   "source": [
    "## If you give all shap_values, the library searched for the one which may interact the most\n",
    "shap.plots.scatter( shap_values[:,'prevFixPos'] , color=shap_values[:,'totalFixDur'] )"
   ]
  },
  {
   "cell_type": "markdown",
   "id": "ab637a68",
   "metadata": {},
   "source": [
    "## SHAP interaction values"
   ]
  },
  {
   "cell_type": "code",
   "execution_count": null,
   "id": "7103758c",
   "metadata": {},
   "outputs": [],
   "source": [
    "%%time\n",
    "shap_interaction_values = explainer.shap_interaction_values(X_train)"
   ]
  },
  {
   "cell_type": "code",
   "execution_count": null,
   "id": "d65248af",
   "metadata": {},
   "outputs": [],
   "source": [
    "import seaborn as sns\n",
    "sns.heatmap( shap_interaction_values[1], \n",
    "            xticklabels = X_train.columns,\n",
    "            yticklabels = X_train.columns,\n",
    "           center = 0, cmap = 'bwr')"
   ]
  },
  {
   "cell_type": "code",
   "execution_count": null,
   "id": "ee1122e6",
   "metadata": {},
   "outputs": [],
   "source": [
    "shap_values[1].values"
   ]
  },
  {
   "cell_type": "code",
   "execution_count": null,
   "id": "8dd32b2b",
   "metadata": {},
   "outputs": [],
   "source": [
    "shap_interaction_values[1].sum(axis = 1)"
   ]
  },
  {
   "cell_type": "code",
   "execution_count": null,
   "id": "704d41e9",
   "metadata": {},
   "outputs": [],
   "source": []
  },
  {
   "cell_type": "code",
   "execution_count": null,
   "id": "5d6ce620",
   "metadata": {},
   "outputs": [],
   "source": [
    "clustering = shap.utils.hclust(X_train, y_train)\n",
    "shap.plots.bar(shap_values, clustering=clustering,clustering_cutoff=1.8)"
   ]
  },
  {
   "cell_type": "code",
   "execution_count": null,
   "id": "5acf9f56",
   "metadata": {},
   "outputs": [],
   "source": []
  },
  {
   "cell_type": "markdown",
   "id": "a92d6884",
   "metadata": {},
   "source": [
    "### exercise\n",
    "\n",
    "We train a similar model, but with max_depth fixed to 1.\n",
    "\n",
    "Look at the corresponding SHAP values. What do you see?\n"
   ]
  },
  {
   "cell_type": "code",
   "execution_count": null,
   "id": "141b2ac3",
   "metadata": {
    "scrolled": true
   },
   "outputs": [],
   "source": [
    "model_xgb2 = xgboost.XGBClassifier(n_estimators=100, \n",
    "                                  max_depth=1,\n",
    "                                  early_stopping_rounds=10 ,\n",
    "                                  eval_metric= 'auc')\n",
    "model_xgb2.fit(X_train, y_train, \n",
    "              eval_set=[(X_train, y_train),(X_valid, y_valid)],\n",
    "              verbose=True)\n"
   ]
  },
  {
   "cell_type": "code",
   "execution_count": null,
   "id": "436dc6ac",
   "metadata": {},
   "outputs": [],
   "source": [
    "explainer2 = shap.Explainer( model_xgb2 ) ## creates an explainer from our model\n",
    "shap_values2 = explainer2(X_train) ## compute shap values for the prediction of the models on some data"
   ]
  },
  {
   "cell_type": "code",
   "execution_count": null,
   "id": "8701dd1b",
   "metadata": {},
   "outputs": [],
   "source": [
    "shap.plots.beeswarm(shap_values2)"
   ]
  },
  {
   "cell_type": "code",
   "execution_count": null,
   "id": "6fadb202",
   "metadata": {},
   "outputs": [],
   "source": [
    "shap.plots.scatter( shap_values2[: , \"P2stFixation\"] )"
   ]
  },
  {
   "cell_type": "code",
   "execution_count": null,
   "id": "c713a3b9",
   "metadata": {},
   "outputs": [],
   "source": [
    "max_depth = 1 # -> tree has single node"
   ]
  },
  {
   "cell_type": "markdown",
   "id": "8c2f65f4",
   "metadata": {},
   "source": [
    "### different explainer types"
   ]
  },
  {
   "cell_type": "code",
   "execution_count": null,
   "id": "f30251fd",
   "metadata": {},
   "outputs": [],
   "source": [
    "%%time\n",
    "explainer = shap.Explainer( model_xgb2 ) ## defaults to TreeExplainer\n",
    "print(type(explainer))\n",
    "# TreeExplainer: \n",
    "#  * explores the tree ensemble to compute the SHAP values efficiently\n",
    "#  * somewhat built-in the trees libraries nowadays -> extra fast computation\n",
    "shap_values = explainer(X_train) \n"
   ]
  },
  {
   "cell_type": "code",
   "execution_count": null,
   "id": "3a6b0fbf",
   "metadata": {},
   "outputs": [],
   "source": [
    "from sklearn.preprocessing import StandardScaler\n",
    "from sklearn.linear_model import LogisticRegression\n",
    "from sklearn.neighbors import KNeighborsClassifier\n",
    "\n",
    "\n",
    "Xt_scaled = StandardScaler().fit_transform(X_train)\n",
    "\n",
    "LR = LogisticRegression()\n",
    "LR.fit(Xt_scaled, y_train)\n"
   ]
  },
  {
   "cell_type": "code",
   "execution_count": null,
   "id": "408347d9",
   "metadata": {},
   "outputs": [],
   "source": [
    "%%time\n",
    "\n",
    "explainer = shap.Explainer( LR ) \n",
    "shap_values = explainer(Xt_scaled) \n",
    "\n",
    "explainer"
   ]
  },
  {
   "cell_type": "code",
   "execution_count": null,
   "id": "c3ea36ab",
   "metadata": {},
   "outputs": [],
   "source": [
    "%%time\n",
    "explainer = shap.Explainer( LR.predict_proba , Xt_scaled[:100,:] ) \n",
    "shap_values = explainer(Xt_scaled[:100,:]) \n",
    "\n",
    "explainer"
   ]
  },
  {
   "cell_type": "markdown",
   "id": "0a4296f1",
   "metadata": {},
   "source": [
    "[permutation explainer](https://shap.readthedocs.io/en/latest/example_notebooks/api_examples/explainers/Permutation.html)\n",
    " * uses smart permutation scheme to estimate SHAP values\n",
    " * needs a \"background\" sample which is used to \"simulate\" values for the masked features\n",
    "\n",
    "An alternative is to explicitely say that it is a Linear model:"
   ]
  },
  {
   "cell_type": "code",
   "execution_count": null,
   "id": "40cc27df",
   "metadata": {},
   "outputs": [],
   "source": [
    "%%time\n",
    "# explain the model's predictions using SHAP\n",
    "explainer = shap.explainers.Linear(LR, Xt_scaled[:100,:])\n",
    "shap_values = explainer(Xt_scaled[:100,:])"
   ]
  },
  {
   "cell_type": "code",
   "execution_count": null,
   "id": "f1750a93",
   "metadata": {},
   "outputs": [],
   "source": [
    "explainer"
   ]
  },
  {
   "cell_type": "markdown",
   "id": "c50f825b",
   "metadata": {},
   "source": [
    "But in some case you won't have a choice and you need to go for a \"generic\" explainer such as PermutationExplainer\n",
    "\n",
    "For example, for a KNN:"
   ]
  },
  {
   "cell_type": "code",
   "execution_count": null,
   "id": "70970dfc",
   "metadata": {},
   "outputs": [],
   "source": [
    "%%time \n",
    "from sklearn.neighbors import KNeighborsClassifier\n",
    "\n",
    "KNN = KNeighborsClassifier(n_neighbors=10)\n",
    "KNN.fit(Xt_scaled, y_train)\n",
    "\n",
    "\n",
    "explainer = shap.Explainer( KNN.predict_proba , Xt_scaled[:100,:]) \n",
    "shap_values = explainer(Xt_scaled[:100,:]) "
   ]
  },
  {
   "cell_type": "markdown",
   "id": "c647f00b",
   "metadata": {},
   "source": [
    "See the API documentation for [other \"explainers\"](https://shap.readthedocs.io/en/latest/api.html#explainers), either generic or adapted to specific kind of models.\n"
   ]
  },
  {
   "cell_type": "markdown",
   "id": "311ab9b0",
   "metadata": {},
   "source": [
    "### causation, correlation, and interpretation of predictive models\n",
    "\n",
    "We are sure you have heard it a large number of time, but this message really is really worth repeating.\n",
    "\n",
    "The SHAP documentation actually proposes an [insightful article](https://shap.readthedocs.io/en/latest/example_notebooks/overviews/Be%20careful%20when%20interpreting%20predictive%20models%20in%20search%20of%20causal%20insights.html) on the topic of misleading interpretation.\n",
    "\n",
    "Our advise is to read it attentively, meditate on the subject, and then read it again.\n",
    "\n"
   ]
  },
  {
   "cell_type": "markdown",
   "id": "d931e295",
   "metadata": {},
   "source": [
    "## LIME"
   ]
  },
  {
   "cell_type": "code",
   "execution_count": null,
   "id": "147529b3",
   "metadata": {},
   "outputs": [],
   "source": [
    "#!pip install lime"
   ]
  },
  {
   "cell_type": "code",
   "execution_count": null,
   "id": "0dc2f135",
   "metadata": {},
   "outputs": [],
   "source": [
    "import numpy as np\n",
    "from lime import lime_tabular\n"
   ]
  },
  {
   "cell_type": "code",
   "execution_count": null,
   "id": "114b536d",
   "metadata": {},
   "outputs": [],
   "source": [
    "%%time\n",
    "explainer = lime_tabular.LimeTabularExplainer( np.array( X_train ) , \n",
    "                                                   feature_names=X_train.columns, \n",
    "                                                   class_names=['Incorrect','Correct'], \n",
    "                                                   discretize_continuous=True)"
   ]
  },
  {
   "cell_type": "code",
   "execution_count": null,
   "id": "74720bf5",
   "metadata": {},
   "outputs": [],
   "source": [
    "isCorrect = model_xgb.predict( X_valid ) == y_valid\n",
    "\n",
    "print(\"correct positive cases:\")\n",
    "print( np.where( isCorrect * (y_valid==1) )[0][:5] )\n",
    "\n",
    "print(\"correct negative cases:\")\n",
    "print( np.where( isCorrect * (y_valid==0) )[0][:5] )\n",
    "\n",
    "\n",
    "print(\"incorrect positive cases:\")\n",
    "print( np.where( (~isCorrect) * (y_valid==1) )[0][:5] )\n",
    "\n",
    "print(\"incorrect negative cases:\")\n",
    "print( np.where( (~isCorrect) * (y_valid==0) )[0][:5] )\n",
    "\n",
    "\n"
   ]
  },
  {
   "cell_type": "code",
   "execution_count": null,
   "id": "4d4508d7",
   "metadata": {},
   "outputs": [],
   "source": [
    "i = 1\n",
    "exp = explainer.explain_instance(np.array( X_valid.iloc[i,:] ) , \n",
    "                                 model_xgb.predict_proba, \n",
    "                                 num_features=10, top_labels=1)\n",
    "exp.show_in_notebook(show_table=True, show_all=False)"
   ]
  },
  {
   "cell_type": "code",
   "execution_count": null,
   "id": "e0f9eddb",
   "metadata": {},
   "outputs": [],
   "source": [
    "exp"
   ]
  },
  {
   "cell_type": "code",
   "execution_count": null,
   "id": "48ec2494",
   "metadata": {},
   "outputs": [],
   "source": [
    "exp.as_list(0)"
   ]
  },
  {
   "cell_type": "code",
   "execution_count": null,
   "id": "c1a1987e",
   "metadata": {},
   "outputs": [],
   "source": []
  }
 ],
 "metadata": {
  "kernelspec": {
   "display_name": "Environment (conda_intermediateml_2024)",
   "language": "python",
   "name": "conda_intermediateml_2024"
  },
  "language_info": {
   "codemirror_mode": {
    "name": "ipython",
    "version": 3
   },
   "file_extension": ".py",
   "mimetype": "text/x-python",
   "name": "python",
   "nbconvert_exporter": "python",
   "pygments_lexer": "ipython3",
   "version": "3.11.9"
  }
 },
 "nbformat": 4,
 "nbformat_minor": 5
}
